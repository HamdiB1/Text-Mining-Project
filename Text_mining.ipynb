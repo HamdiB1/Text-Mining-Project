{
  "nbformat": 4,
  "nbformat_minor": 0,
  "metadata": {
    "colab": {
      "name": "Twitter Mining.ipynb",
      "provenance": [],
      "collapsed_sections": []
    },
    "kernelspec": {
      "display_name": "Python 3",
      "name": "python3"
    }
  },
  "cells": [
    {
      "cell_type": "markdown",
      "metadata": {
        "id": "uqUtUKiCmwjd"
      },
      "source": [
        "## Importing Necessary libraries"
      ]
    },
    {
      "cell_type": "code",
      "metadata": {
        "id": "84YIfPw7SyTe"
      },
      "source": [
        "!pip install langid"
      ],
      "execution_count": null,
      "outputs": []
    },
    {
      "cell_type": "code",
      "metadata": {
        "id": "O_NUB6v1fKjd"
      },
      "source": [
        "import nltk\r\n",
        "nltk.download('all')"
      ],
      "execution_count": null,
      "outputs": []
    },
    {
      "cell_type": "code",
      "metadata": {
        "id": "FIaqHYvcm4m1"
      },
      "source": [
        "import pandas as pd \r\n",
        "import sklearn\r\n",
        "from sklearn.ensemble import BaggingClassifier\r\n",
        "from sklearn.neighbors import KNeighborsClassifier\r\n",
        "from sklearn.pipeline import Pipeline\r\n",
        "from sklearn import metrics\r\n",
        "from sklearn.feature_extraction.text import CountVectorizer\r\n",
        "from sklearn.feature_extraction.text import TfidfTransformer\r\n",
        "from sklearn.datasets import fetch_20newsgroups"
      ],
      "execution_count": null,
      "outputs": []
    },
    {
      "cell_type": "code",
      "metadata": {
        "id": "rMqyXk14FpN6",
        "colab": {
          "base_uri": "https://localhost:8080/",
          "height": 35
        },
        "outputId": "aa0b4466-08f3-4d2d-a395-d6ba1f378b1d"
      },
      "source": [
        "from textblob import TextBlob\r\n",
        "import langid\r\n",
        "langid.classify(\"This is a test\")[0]\r\n"
      ],
      "execution_count": 11,
      "outputs": [
        {
          "output_type": "execute_result",
          "data": {
            "application/vnd.google.colaboratory.intrinsic+json": {
              "type": "string"
            },
            "text/plain": [
              "'en'"
            ]
          },
          "metadata": {
            "tags": []
          },
          "execution_count": 11
        }
      ]
    },
    {
      "cell_type": "code",
      "metadata": {
        "id": "aE-p59005LY_",
        "colab": {
          "base_uri": "https://localhost:8080/"
        },
        "outputId": "6fcb6dcd-472e-45aa-b62a-7dfbfb61ed55"
      },
      "source": [
        "!unzip /content/drive/MyDrive/Textmining/tweets-analysis-main.zip"
      ],
      "execution_count": 3,
      "outputs": [
        {
          "output_type": "stream",
          "text": [
            "Archive:  /content/drive/MyDrive/Textmining/tweets-analysis-main.zip\n",
            "740485a04f3f0e7de4d1f86fcb86c96604a3b2f4\n",
            "   creating: tweets-analysis-main/\n",
            "  inflating: tweets-analysis-main/Culture-tweets.csv  \n",
            "  inflating: tweets-analysis-main/Economy-tweets.csv  \n",
            "  inflating: tweets-analysis-main/Health-tweets.csv  \n",
            "  inflating: tweets-analysis-main/Politics-tweets.csv  \n",
            "  inflating: tweets-analysis-main/README.md  \n",
            "  inflating: tweets-analysis-main/Social-tweets.csv  \n",
            "  inflating: tweets-analysis-main/Sport-tweets.csv  \n",
            "  inflating: tweets-analysis-main/analysis.ipynb  \n",
            "  inflating: tweets-analysis-main/concatenation_datasets.ipynb  \n",
            "  inflating: tweets-analysis-main/culture.ipynb  \n",
            "  inflating: tweets-analysis-main/data.csv  \n",
            "  inflating: tweets-analysis-main/economy.ipynb  \n",
            "  inflating: tweets-analysis-main/environment.yml  \n",
            "  inflating: tweets-analysis-main/health.ipynb  \n",
            "  inflating: tweets-analysis-main/politics.ipynb  \n",
            "  inflating: tweets-analysis-main/social.ipynb  \n",
            "  inflating: tweets-analysis-main/sport.ipynb  \n"
          ],
          "name": "stdout"
        }
      ]
    },
    {
      "cell_type": "markdown",
      "metadata": {
        "id": "tDg9QeV5nBCA"
      },
      "source": [
        "# Load&Unzip data"
      ]
    },
    {
      "cell_type": "code",
      "metadata": {
        "id": "7uJXuwEmPBpF"
      },
      "source": [
        "df_Culture = pd.read_csv(\"/content/tweets-analysis-main/Culture-tweets.csv\", error_bad_lines=False)\r\n",
        "df_Culture['category'] = [0] * len (df_Culture)\r\n",
        "df_Health = pd.read_csv(\"/content/tweets-analysis-main/Economy-tweets.csv\", error_bad_lines=False)\r\n",
        "df_Health['category'] = [1] * len (df_Health)\r\n",
        "df_Sports = pd.read_csv(\"/content/tweets-analysis-main/Sport-tweets.csv\", error_bad_lines=False)\r\n",
        "df_Sports['category'] = [2] * len (df_Health)\r\n",
        "df_Politics = pd.read_csv(\"/content/tweets-analysis-main/Politics-tweets.csv\", error_bad_lines=False)\r\n",
        "df_Politics['category'] = [3] * len (df_Politics)\r\n"
      ],
      "execution_count": 74,
      "outputs": []
    },
    {
      "cell_type": "code",
      "metadata": {
        "colab": {
          "base_uri": "https://localhost:8080/",
          "height": 197
        },
        "id": "HamCrydyRTR6",
        "outputId": "ff2008f8-0cbf-4456-be5f-570f97998822"
      },
      "source": [
        "dataset = pd.concat([df_Culture, df_Health, df_Sports, df_Politics],ignore_index=True)\r\n",
        "dataset.head()"
      ],
      "execution_count": 75,
      "outputs": [
        {
          "output_type": "execute_result",
          "data": {
            "text/html": [
              "<div>\n",
              "<style scoped>\n",
              "    .dataframe tbody tr th:only-of-type {\n",
              "        vertical-align: middle;\n",
              "    }\n",
              "\n",
              "    .dataframe tbody tr th {\n",
              "        vertical-align: top;\n",
              "    }\n",
              "\n",
              "    .dataframe thead th {\n",
              "        text-align: right;\n",
              "    }\n",
              "</style>\n",
              "<table border=\"1\" class=\"dataframe\">\n",
              "  <thead>\n",
              "    <tr style=\"text-align: right;\">\n",
              "      <th></th>\n",
              "      <th>user</th>\n",
              "      <th>Text</th>\n",
              "      <th>category</th>\n",
              "    </tr>\n",
              "  </thead>\n",
              "  <tbody>\n",
              "    <tr>\n",
              "      <th>0</th>\n",
              "      <td>_sha_kyra</td>\n",
              "      <td>RT @Black_Archange: Aujourd’hui en France : \\n...</td>\n",
              "      <td>0</td>\n",
              "    </tr>\n",
              "    <tr>\n",
              "      <th>1</th>\n",
              "      <td>penaraimakmaiei</td>\n",
              "      <td>RT @NctzenToday: จริงๆซือจือนี่ไทยก็โดนกันมาหล...</td>\n",
              "      <td>0</td>\n",
              "    </tr>\n",
              "    <tr>\n",
              "      <th>2</th>\n",
              "      <td>J_free_98</td>\n",
              "      <td>RT @okayplayer: Breakdancing has officially be...</td>\n",
              "      <td>0</td>\n",
              "    </tr>\n",
              "    <tr>\n",
              "      <th>3</th>\n",
              "      <td>_skywalker8</td>\n",
              "      <td>RT @shroomimimi: you know who felt uncomfortab...</td>\n",
              "      <td>0</td>\n",
              "    </tr>\n",
              "    <tr>\n",
              "      <th>4</th>\n",
              "      <td>Rudeboi13_</td>\n",
              "      <td>@King_Seb13 It’s so true, our culture is all a...</td>\n",
              "      <td>0</td>\n",
              "    </tr>\n",
              "  </tbody>\n",
              "</table>\n",
              "</div>"
            ],
            "text/plain": [
              "              user                                               Text  category\n",
              "0        _sha_kyra  RT @Black_Archange: Aujourd’hui en France : \\n...         0\n",
              "1  penaraimakmaiei  RT @NctzenToday: จริงๆซือจือนี่ไทยก็โดนกันมาหล...         0\n",
              "2        J_free_98  RT @okayplayer: Breakdancing has officially be...         0\n",
              "3      _skywalker8  RT @shroomimimi: you know who felt uncomfortab...         0\n",
              "4       Rudeboi13_  @King_Seb13 It’s so true, our culture is all a...         0"
            ]
          },
          "metadata": {
            "tags": []
          },
          "execution_count": 75
        }
      ]
    },
    {
      "cell_type": "code",
      "metadata": {
        "id": "RCgDwfhhSqMY"
      },
      "source": [
        "dataset.to_csv( \"data.csv\", index=False, encoding='utf-8-sig')\r\n"
      ],
      "execution_count": 76,
      "outputs": []
    },
    {
      "cell_type": "code",
      "metadata": {
        "id": "43B5XLxdR37R"
      },
      "source": [
        "df = dataset.sample(frac=1)\r\n"
      ],
      "execution_count": 77,
      "outputs": []
    },
    {
      "cell_type": "code",
      "metadata": {
        "colab": {
          "base_uri": "https://localhost:8080/",
          "height": 197
        },
        "id": "6xsrzlLvR8D6",
        "outputId": "7d394e35-69c1-47b1-e867-6e8ca39a5455"
      },
      "source": [
        "df.head()"
      ],
      "execution_count": 78,
      "outputs": [
        {
          "output_type": "execute_result",
          "data": {
            "text/html": [
              "<div>\n",
              "<style scoped>\n",
              "    .dataframe tbody tr th:only-of-type {\n",
              "        vertical-align: middle;\n",
              "    }\n",
              "\n",
              "    .dataframe tbody tr th {\n",
              "        vertical-align: top;\n",
              "    }\n",
              "\n",
              "    .dataframe thead th {\n",
              "        text-align: right;\n",
              "    }\n",
              "</style>\n",
              "<table border=\"1\" class=\"dataframe\">\n",
              "  <thead>\n",
              "    <tr style=\"text-align: right;\">\n",
              "      <th></th>\n",
              "      <th>user</th>\n",
              "      <th>Text</th>\n",
              "      <th>category</th>\n",
              "    </tr>\n",
              "  </thead>\n",
              "  <tbody>\n",
              "    <tr>\n",
              "      <th>10951</th>\n",
              "      <td>maria82598353</td>\n",
              "      <td>RT @myhlee: NEW: Trump asks Pennsylvania House...</td>\n",
              "      <td>3</td>\n",
              "    </tr>\n",
              "    <tr>\n",
              "      <th>5691</th>\n",
              "      <td>W98556374</td>\n",
              "      <td>RT @OSSRobertSteele: The Steele Report – Grade...</td>\n",
              "      <td>1</td>\n",
              "    </tr>\n",
              "    <tr>\n",
              "      <th>221</th>\n",
              "      <td>SagebrushTimes</td>\n",
              "      <td>Governors of Western USA burning culture out o...</td>\n",
              "      <td>0</td>\n",
              "    </tr>\n",
              "    <tr>\n",
              "      <th>976</th>\n",
              "      <td>DelatourRegis</td>\n",
              "      <td>@samsedz @to_t0bi @CancerReligieux @uwukoyo 😂😂...</td>\n",
              "      <td>0</td>\n",
              "    </tr>\n",
              "    <tr>\n",
              "      <th>2740</th>\n",
              "      <td>itzeldiaz29</td>\n",
              "      <td>RT @AnnKumfer: ☄️High risk conditions (such as...</td>\n",
              "      <td>0</td>\n",
              "    </tr>\n",
              "  </tbody>\n",
              "</table>\n",
              "</div>"
            ],
            "text/plain": [
              "                 user  ... category\n",
              "10951   maria82598353  ...        3\n",
              "5691        W98556374  ...        1\n",
              "221    SagebrushTimes  ...        0\n",
              "976     DelatourRegis  ...        0\n",
              "2740      itzeldiaz29  ...        0\n",
              "\n",
              "[5 rows x 3 columns]"
            ]
          },
          "metadata": {
            "tags": []
          },
          "execution_count": 78
        }
      ]
    },
    {
      "cell_type": "code",
      "metadata": {
        "colab": {
          "base_uri": "https://localhost:8080/"
        },
        "id": "tMKf4lvtXdiV",
        "outputId": "5061469d-ffc9-432c-8b91-5fe373ef2b4a"
      },
      "source": [
        "len(df)"
      ],
      "execution_count": 79,
      "outputs": [
        {
          "output_type": "execute_result",
          "data": {
            "text/plain": [
              "14000"
            ]
          },
          "metadata": {
            "tags": []
          },
          "execution_count": 79
        }
      ]
    },
    {
      "cell_type": "code",
      "metadata": {
        "colab": {
          "base_uri": "https://localhost:8080/"
        },
        "id": "UijTLBB-XiVc",
        "outputId": "a7cc5fc7-1114-4130-ce67-ac00738e8d6d"
      },
      "source": [
        "(df['category'].value_counts())"
      ],
      "execution_count": 80,
      "outputs": [
        {
          "output_type": "execute_result",
          "data": {
            "text/plain": [
              "3    5000\n",
              "2    3000\n",
              "1    3000\n",
              "0    3000\n",
              "Name: category, dtype: int64"
            ]
          },
          "metadata": {
            "tags": []
          },
          "execution_count": 80
        }
      ]
    },
    {
      "cell_type": "code",
      "metadata": {
        "id": "LVCjgwGQGjk0"
      },
      "source": [
        "df.shape\r\n",
        "df = df.drop(['user'],axis= 1)"
      ],
      "execution_count": 81,
      "outputs": []
    },
    {
      "cell_type": "code",
      "metadata": {
        "id": "FcXikG8C1T2S",
        "colab": {
          "base_uri": "https://localhost:8080/"
        },
        "outputId": "a4fc0855-f5f3-493d-b893-9b891327db4b"
      },
      "source": [
        "df.shape"
      ],
      "execution_count": 82,
      "outputs": [
        {
          "output_type": "execute_result",
          "data": {
            "text/plain": [
              "(14000, 2)"
            ]
          },
          "metadata": {
            "tags": []
          },
          "execution_count": 82
        }
      ]
    },
    {
      "cell_type": "markdown",
      "metadata": {
        "id": "U4T9fevvmMkp"
      },
      "source": [
        "# Part 1: Category classification"
      ]
    },
    {
      "cell_type": "markdown",
      "metadata": {
        "id": "pXoKu5Mb5nNP"
      },
      "source": [
        "## Data Preprocessing"
      ]
    },
    {
      "cell_type": "code",
      "metadata": {
        "id": "UYolywIO5mbD"
      },
      "source": [
        "import pandas as pd\r\n",
        "import numpy as np\r\n",
        "import re\r\n",
        "# Plotting\r\n",
        "import seaborn as sns\r\n",
        "import matplotlib.pyplot as plt\r\n",
        "# Gensim\r\n",
        "import gensim\r\n",
        "from gensim.utils import simple_preprocess\r\n",
        "# NLTK\r\n",
        "import nltk\r\n",
        "from nltk.corpus import stopwords\r\n",
        "from collections import Counter\r\n",
        "from nltk.tokenize import word_tokenize\r\n"
      ],
      "execution_count": 83,
      "outputs": []
    },
    {
      "cell_type": "code",
      "metadata": {
        "id": "ZLOq2jx8dE8w"
      },
      "source": [
        "contractions = { \r\n",
        "\"ain't\": \"am not\",\r\n",
        "\"aren't\": \"are not\",\r\n",
        "\"can't\": \"cannot\",\r\n",
        "\"can't've\": \"cannot have\",\r\n",
        "\"'cause\": \"because\",\r\n",
        "\"could've\": \"could have\",\r\n",
        "\"couldn't\": \"could not\",\r\n",
        "\"couldn't've\": \"could not have\",\r\n",
        "\"didn't\": \"did not\",\r\n",
        "\"doesn't\": \"does not\",\r\n",
        "\"don't\": \"do not\",\r\n",
        "\"hadn't\": \"had not\",\r\n",
        "\"hadn't've\": \"had not have\",\r\n",
        "\"hasn't\": \"has not\",\r\n",
        "\"haven't\": \"have not\",\r\n",
        "\"he'd\": \"he would\",\r\n",
        "\"he'd've\": \"he would have\",\r\n",
        "\"he'll\": \"he will\",\r\n",
        "\"he's\": \"he is\",\r\n",
        "\"how'd\": \"how did\",\r\n",
        "\"how'll\": \"how will\",\r\n",
        "\"how's\": \"how is\",\r\n",
        "\"i'd\": \"i would\",\r\n",
        "\"i'll\": \"i will\",\r\n",
        "\"i'm\": \"i am\",\r\n",
        "\"i've\": \"i have\",\r\n",
        "\"isn't\": \"is not\",\r\n",
        "\"it'd\": \"it would\",\r\n",
        "\"it'll\": \"it will\",\r\n",
        "\"it's\": \"it is\",\r\n",
        "\"let's\": \"let us\",\r\n",
        "\"ma'am\": \"madam\",\r\n",
        "\"mayn't\": \"may not\",\r\n",
        "\"might've\": \"might have\",\r\n",
        "\"mightn't\": \"might not\",\r\n",
        "\"must've\": \"must have\",\r\n",
        "\"mustn't\": \"must not\",\r\n",
        "\"needn't\": \"need not\",\r\n",
        "\"oughtn't\": \"ought not\",\r\n",
        "\"shan't\": \"shall not\",\r\n",
        "\"sha'n't\": \"shall not\",\r\n",
        "\"she'd\": \"she would\",\r\n",
        "\"she'll\": \"she will\",\r\n",
        "\"she's\": \"she is\",\r\n",
        "\"should've\": \"should have\",\r\n",
        "\"shouldn't\": \"should not\",\r\n",
        "\"that'd\": \"that would\",\r\n",
        "\"that's\": \"that is\",\r\n",
        "\"there'd\": \"there had\",\r\n",
        "\"there's\": \"there is\",\r\n",
        "\"they'd\": \"they would\",\r\n",
        "\"they'll\": \"they will\",\r\n",
        "\"they're\": \"they are\",\r\n",
        "\"they've\": \"they have\",\r\n",
        "\"wasn't\": \"was not\",\r\n",
        "\"we'd\": \"we would\",\r\n",
        "\"we'll\": \"we will\",\r\n",
        "\"we're\": \"we are\",\r\n",
        "\"we've\": \"we have\",\r\n",
        "\"weren't\": \"were not\",\r\n",
        "\"what'll\": \"what will\",\r\n",
        "\"what're\": \"what are\",\r\n",
        "\"what's\": \"what is\",\r\n",
        "\"what've\": \"what have\",\r\n",
        "\"where'd\": \"where did\",\r\n",
        "\"where's\": \"where is\",\r\n",
        "\"who'll\": \"who will\",\r\n",
        "\"who's\": \"who is\",\r\n",
        "\"won't\": \"will not\",\r\n",
        "\"wouldn't\": \"would not\",\r\n",
        "\"you'd\": \"you would\",\r\n",
        "\"you'll\": \"you will\",\r\n",
        "\"you're\": \"you are\"\r\n",
        "}"
      ],
      "execution_count": 84,
      "outputs": []
    },
    {
      "cell_type": "code",
      "metadata": {
        "id": "3P5nrV5LdzB_"
      },
      "source": [
        "from nltk.stem import WordNetLemmatizer  # NLTK LEMMATIZER\r\n",
        "from nltk.stem.porter import PorterStemmer  # NLTK STEMMER\r\n",
        "\r\n",
        "def lemmatize_stemming(text,lemmatize=True):\r\n",
        "    ps = PorterStemmer()\r\n",
        "    lem = WordNetLemmatizer().lemmatize(text)\r\n",
        "    stem = ps.stem(lem)\r\n",
        "    if lemmatize:\r\n",
        "      return lem\r\n",
        "    return stem\r\n"
      ],
      "execution_count": 85,
      "outputs": []
    },
    {
      "cell_type": "code",
      "metadata": {
        "id": "pYvtu-u3YMKP"
      },
      "source": [
        ">>> from nltk.tokenize import TweetTokenizer\r\n",
        ">>> tknzr = TweetTokenizer()\r\n"
      ],
      "execution_count": 86,
      "outputs": []
    },
    {
      "cell_type": "code",
      "metadata": {
        "id": "IIT2VJCVZfQO"
      },
      "source": [
        "def clean_text(text, remove_stopwords = True):\r\n",
        "    '''Remove unwanted characters, stopwords, and format the text to create fewer nulls word embeddings'''\r\n",
        "    \r\n",
        "    # Convert words to lower case\r\n",
        "    text = text.lower()\r\n",
        "    \r\n",
        "    # Replace contractions with their longer forms \r\n",
        "    if True:\r\n",
        "        text = tknzr.tokenize(text)\r\n",
        "        new_text = []\r\n",
        "        for word in text:\r\n",
        "            if word in contractions:\r\n",
        "                new_text.append(contractions[word])\r\n",
        "            else:\r\n",
        "                new_text.append(word)\r\n",
        "        text = \" \".join(new_text)\r\n",
        "    \r\n",
        "    # Format words and remove unwanted characters\r\n",
        "    text = re.sub(r'https?:\\/\\/.*[\\r\\n]*', '', text, flags=re.MULTILINE)\r\n",
        "    text = re.sub(r'\\<a href', ' ', text)\r\n",
        "    text = re.sub(r'&amp;', '', text) \r\n",
        "    text = re.sub(r'[_\"\\-;%()|+&=*%.,!?:#$@\\[\\]/]', ' ', text)\r\n",
        "    text = re.sub(r'<br />', ' ', text)\r\n",
        "    text = re.sub(r'\\'', ' ', text)\r\n",
        "    text = re.sub('[^a-zA-Z]', ' ', text)\r\n",
        "    \r\n",
        "    # Single character removal\r\n",
        "    text = re.sub(r\"\\s+[a-zA-Z]\\s+\", ' ', text)\r\n",
        "\r\n",
        "    # Removing multiple spaces\r\n",
        "    text = re.sub(r'\\s+', ' ', text)\r\n",
        "    #text = re.sub(\"[rt]\",\" \",text)\r\n",
        "    # remove stop words\r\n",
        "    if remove_stopwords:\r\n",
        "        text = tknzr.tokenize(text)\r\n",
        "        stops = set(stopwords.words(\"english\"))\r\n",
        "        text = [ (w) for w in text if not w in stops and len(w)>3]\r\n",
        "        text = \" \".join(text)\r\n",
        "\r\n",
        "    # Tokenize each word\r\n",
        "    text =  nltk.WordPunctTokenizer().tokenize(text)\r\n",
        "        \r\n",
        "    return ' '.join(text)"
      ],
      "execution_count": 87,
      "outputs": []
    },
    {
      "cell_type": "code",
      "metadata": {
        "id": "doYSKTSoT7gk"
      },
      "source": [
        "import numpy as np\r\n",
        "df['Text'] = df['Text'].map(lambda x: x if langid.classify(x)[0] == 'en' else np.nan)"
      ],
      "execution_count": 88,
      "outputs": []
    },
    {
      "cell_type": "code",
      "metadata": {
        "colab": {
          "base_uri": "https://localhost:8080/"
        },
        "id": "-vbUUMv6Ufg7",
        "outputId": "a04d29ad-8fc5-43e9-b728-69fc1e57e41d"
      },
      "source": [
        "len(df)"
      ],
      "execution_count": 89,
      "outputs": [
        {
          "output_type": "execute_result",
          "data": {
            "text/plain": [
              "14000"
            ]
          },
          "metadata": {
            "tags": []
          },
          "execution_count": 89
        }
      ]
    },
    {
      "cell_type": "code",
      "metadata": {
        "id": "znz8JIwkUiA0"
      },
      "source": [
        "df = df.dropna(axis=0)"
      ],
      "execution_count": 90,
      "outputs": []
    },
    {
      "cell_type": "code",
      "metadata": {
        "colab": {
          "base_uri": "https://localhost:8080/"
        },
        "id": "QUj7eQ1fUoJq",
        "outputId": "0e48c208-207e-489e-d22a-dc8dda2527fe"
      },
      "source": [
        "len(df)"
      ],
      "execution_count": 91,
      "outputs": [
        {
          "output_type": "execute_result",
          "data": {
            "text/plain": [
              "11768"
            ]
          },
          "metadata": {
            "tags": []
          },
          "execution_count": 91
        }
      ]
    },
    {
      "cell_type": "code",
      "metadata": {
        "id": "kcUF9Ta8bFHu"
      },
      "source": [
        "df['preprocessed_text'] = df['Text'].map(lambda x: clean_text(x))"
      ],
      "execution_count": 92,
      "outputs": []
    },
    {
      "cell_type": "code",
      "metadata": {
        "colab": {
          "base_uri": "https://localhost:8080/",
          "height": 197
        },
        "id": "Q8SXrWm7bt2d",
        "outputId": "9ed717aa-2fc4-4bd7-8763-4cd78f3c521f"
      },
      "source": [
        "df.head()"
      ],
      "execution_count": 93,
      "outputs": [
        {
          "output_type": "execute_result",
          "data": {
            "text/html": [
              "<div>\n",
              "<style scoped>\n",
              "    .dataframe tbody tr th:only-of-type {\n",
              "        vertical-align: middle;\n",
              "    }\n",
              "\n",
              "    .dataframe tbody tr th {\n",
              "        vertical-align: top;\n",
              "    }\n",
              "\n",
              "    .dataframe thead th {\n",
              "        text-align: right;\n",
              "    }\n",
              "</style>\n",
              "<table border=\"1\" class=\"dataframe\">\n",
              "  <thead>\n",
              "    <tr style=\"text-align: right;\">\n",
              "      <th></th>\n",
              "      <th>Text</th>\n",
              "      <th>category</th>\n",
              "      <th>preprocessed_text</th>\n",
              "    </tr>\n",
              "  </thead>\n",
              "  <tbody>\n",
              "    <tr>\n",
              "      <th>10951</th>\n",
              "      <td>RT @myhlee: NEW: Trump asks Pennsylvania House...</td>\n",
              "      <td>3</td>\n",
              "      <td>myhlee trump asks pennsylvania house speaker h...</td>\n",
              "    </tr>\n",
              "    <tr>\n",
              "      <th>5691</th>\n",
              "      <td>RT @OSSRobertSteele: The Steele Report – Grade...</td>\n",
              "      <td>1</td>\n",
              "      <td>ossrobertsteele steele report grades topics to...</td>\n",
              "    </tr>\n",
              "    <tr>\n",
              "      <th>221</th>\n",
              "      <td>Governors of Western USA burning culture out o...</td>\n",
              "      <td>0</td>\n",
              "      <td>governors western burning culture communities</td>\n",
              "    </tr>\n",
              "    <tr>\n",
              "      <th>2740</th>\n",
              "      <td>RT @AnnKumfer: ☄️High risk conditions (such as...</td>\n",
              "      <td>0</td>\n",
              "      <td>annkumfer high risk conditions meningitis endo...</td>\n",
              "    </tr>\n",
              "    <tr>\n",
              "      <th>9768</th>\n",
              "      <td>RT @a_sandhan: Middle obsession with corruptio...</td>\n",
              "      <td>3</td>\n",
              "      <td>sandhan middle obsession corruption issues cle...</td>\n",
              "    </tr>\n",
              "  </tbody>\n",
              "</table>\n",
              "</div>"
            ],
            "text/plain": [
              "                                                    Text  ...                                  preprocessed_text\n",
              "10951  RT @myhlee: NEW: Trump asks Pennsylvania House...  ...  myhlee trump asks pennsylvania house speaker h...\n",
              "5691   RT @OSSRobertSteele: The Steele Report – Grade...  ...  ossrobertsteele steele report grades topics to...\n",
              "221    Governors of Western USA burning culture out o...  ...      governors western burning culture communities\n",
              "2740   RT @AnnKumfer: ☄️High risk conditions (such as...  ...  annkumfer high risk conditions meningitis endo...\n",
              "9768   RT @a_sandhan: Middle obsession with corruptio...  ...  sandhan middle obsession corruption issues cle...\n",
              "\n",
              "[5 rows x 3 columns]"
            ]
          },
          "metadata": {
            "tags": []
          },
          "execution_count": 93
        }
      ]
    },
    {
      "cell_type": "markdown",
      "metadata": {
        "id": "z4DDlMqvmrVk"
      },
      "source": [
        "## Splitting dataset into train/test set\r\n"
      ]
    },
    {
      "cell_type": "code",
      "metadata": {
        "id": "6bAiwuKffpWt"
      },
      "source": [
        ">>> X_train, X_test, y_train, y_test = sklearn.model_selection.train_test_split(df['preprocessed_text'], df['category'], test_size=0.2, random_state=42)"
      ],
      "execution_count": 94,
      "outputs": []
    },
    {
      "cell_type": "markdown",
      "metadata": {
        "id": "earhbY4bfODw"
      },
      "source": [
        "## Modelling"
      ]
    },
    {
      "cell_type": "markdown",
      "metadata": {
        "id": "qcKPGLS0YtUM"
      },
      "source": [
        "### SVM"
      ]
    },
    {
      "cell_type": "code",
      "metadata": {
        "colab": {
          "base_uri": "https://localhost:8080/"
        },
        "id": "7fvfYFqMfS1-",
        "outputId": "19909c9d-2eda-4594-dc93-c250c48e770c"
      },
      "source": [
        "from sklearn.svm import LinearSVC\r\n",
        "from sklearn.pipeline import Pipeline\r\n",
        "from sklearn import metrics\r\n",
        "from sklearn.feature_extraction.text import CountVectorizer\r\n",
        "from sklearn.feature_extraction.text import TfidfTransformer\r\n",
        "\r\n",
        "SVM_clf = Pipeline([('vect', CountVectorizer()),\r\n",
        "                     ('tfidf', TfidfTransformer()),\r\n",
        "                     ('clf', LinearSVC()),\r\n",
        "                     ])\r\n",
        "\r\n",
        "SVM_clf.fit(X_train, y_train)\r\n",
        "\r\n",
        "\r\n",
        "predicted = SVM_clf.predict(X_test)\r\n",
        "\r\n",
        "print(metrics.classification_report(y_test, predicted))\r\n"
      ],
      "execution_count": 95,
      "outputs": [
        {
          "output_type": "stream",
          "text": [
            "              precision    recall  f1-score   support\n",
            "\n",
            "           0       0.92      0.87      0.89       521\n",
            "           1       0.86      0.87      0.87       525\n",
            "           2       0.91      0.89      0.90       410\n",
            "           3       0.89      0.93      0.91       898\n",
            "\n",
            "    accuracy                           0.90      2354\n",
            "   macro avg       0.90      0.89      0.89      2354\n",
            "weighted avg       0.90      0.90      0.90      2354\n",
            "\n"
          ],
          "name": "stdout"
        }
      ]
    },
    {
      "cell_type": "markdown",
      "metadata": {
        "id": "3JfSfJT3Yw2K"
      },
      "source": [
        "### Random Forest"
      ]
    },
    {
      "cell_type": "code",
      "metadata": {
        "colab": {
          "base_uri": "https://localhost:8080/"
        },
        "id": "XECIY4t2YzXg",
        "outputId": "c2f95040-c7d7-4930-d694-4450778c095a"
      },
      "source": [
        "from sklearn.ensemble import RandomForestClassifier\r\n",
        "RF_clf = Pipeline([('vect', CountVectorizer()),\r\n",
        "                     ('tfidf', TfidfTransformer()),\r\n",
        "                     ('clf', RandomForestClassifier(n_estimators=100)),\r\n",
        "                     ])\r\n",
        "\r\n",
        "RF_clf.fit(X_train, y_train)\r\n",
        "\r\n",
        "\r\n",
        "predicted = RF_clf.predict(X_test)\r\n",
        "\r\n",
        "print(metrics.classification_report(y_test, predicted))\r\n"
      ],
      "execution_count": 96,
      "outputs": [
        {
          "output_type": "stream",
          "text": [
            "              precision    recall  f1-score   support\n",
            "\n",
            "           0       0.92      0.87      0.89       521\n",
            "           1       0.88      0.83      0.85       525\n",
            "           2       0.93      0.88      0.91       410\n",
            "           3       0.86      0.94      0.89       898\n",
            "\n",
            "    accuracy                           0.89      2354\n",
            "   macro avg       0.90      0.88      0.89      2354\n",
            "weighted avg       0.89      0.89      0.89      2354\n",
            "\n"
          ],
          "name": "stdout"
        }
      ]
    },
    {
      "cell_type": "markdown",
      "metadata": {
        "id": "OGUfuCP8ZM1L"
      },
      "source": [
        "### Naive Bayes"
      ]
    },
    {
      "cell_type": "code",
      "metadata": {
        "colab": {
          "base_uri": "https://localhost:8080/"
        },
        "id": "DbE0KtEFZMHM",
        "outputId": "aaded53a-889a-48a4-8556-8a524d1641bb"
      },
      "source": [
        "from sklearn.naive_bayes import MultinomialNB\r\n",
        "text_clf = Pipeline([('vect', CountVectorizer()),\r\n",
        "                     ('tfidf', TfidfTransformer()),\r\n",
        "                     ('clf', MultinomialNB()),\r\n",
        "                     ])\r\n",
        "\r\n",
        "text_clf.fit(X_train, y_train)\r\n",
        "\r\n",
        "\r\n",
        "predicted = text_clf.predict(X_test)\r\n",
        "\r\n",
        "print(metrics.classification_report(y_test, predicted))\r\n"
      ],
      "execution_count": 97,
      "outputs": [
        {
          "output_type": "stream",
          "text": [
            "              precision    recall  f1-score   support\n",
            "\n",
            "           0       0.93      0.80      0.86       521\n",
            "           1       0.83      0.82      0.82       525\n",
            "           2       0.93      0.83      0.87       410\n",
            "           3       0.82      0.93      0.87       898\n",
            "\n",
            "    accuracy                           0.86      2354\n",
            "   macro avg       0.88      0.84      0.86      2354\n",
            "weighted avg       0.87      0.86      0.86      2354\n",
            "\n"
          ],
          "name": "stdout"
        }
      ]
    },
    {
      "cell_type": "markdown",
      "metadata": {
        "id": "6xRCipzhZ4fP"
      },
      "source": [
        "### k-Nearest Neighbors\r\n",
        "\r\n"
      ]
    },
    {
      "cell_type": "code",
      "metadata": {
        "colab": {
          "base_uri": "https://localhost:8080/"
        },
        "id": "_GXSG2BkZ73S",
        "outputId": "4ba532db-2ae5-4d7f-98e1-4ede12e6606d"
      },
      "source": [
        "from sklearn.neighbors import KNeighborsClassifier\r\n",
        "text_clf = Pipeline([('vect', CountVectorizer()),\r\n",
        "                     ('tfidf', TfidfTransformer()),\r\n",
        "                     ('clf', (KNeighborsClassifier())),\r\n",
        "                     ])\r\n",
        "\r\n",
        "text_clf.fit(X_train, y_train)\r\n",
        "\r\n",
        "\r\n",
        "predicted = text_clf.predict(X_test)\r\n",
        "\r\n",
        "print(metrics.classification_report(y_test, predicted))\r\n"
      ],
      "execution_count": 98,
      "outputs": [
        {
          "output_type": "stream",
          "text": [
            "              precision    recall  f1-score   support\n",
            "\n",
            "           0       0.72      0.53      0.61       521\n",
            "           1       0.74      0.48      0.59       525\n",
            "           2       0.62      0.33      0.43       410\n",
            "           3       0.57      0.90      0.70       898\n",
            "\n",
            "    accuracy                           0.62      2354\n",
            "   macro avg       0.66      0.56      0.58      2354\n",
            "weighted avg       0.65      0.62      0.60      2354\n",
            "\n"
          ],
          "name": "stdout"
        }
      ]
    },
    {
      "cell_type": "markdown",
      "metadata": {
        "id": "xwxMPVanc3vR"
      },
      "source": [
        "### Saving best model\r\n"
      ]
    },
    {
      "cell_type": "code",
      "metadata": {
        "id": "a_8EWLTuc7hf"
      },
      "source": [
        "import pickle\r\n",
        "pickle.dump(SVM_clf, open(\"SVM_clf\", 'wb'))"
      ],
      "execution_count": 99,
      "outputs": []
    },
    {
      "cell_type": "markdown",
      "metadata": {
        "id": "bEbLAkDitgu9"
      },
      "source": [
        "# Part 2: Twitter Sentiment Analysis"
      ]
    },
    {
      "cell_type": "code",
      "metadata": {
        "id": "XhOt9JWDbAuB"
      },
      "source": [
        "# preparing sentiment analysis dataset\r\n",
        "#df = df.drop(['Text', 'category'], axis=1)"
      ],
      "execution_count": null,
      "outputs": []
    },
    {
      "cell_type": "code",
      "metadata": {
        "colab": {
          "base_uri": "https://localhost:8080/",
          "height": 197
        },
        "id": "Udj1NgUveT9P",
        "outputId": "c141c15b-6c5a-4adf-c746-cbc96a856a2d"
      },
      "source": [
        "df.head()"
      ],
      "execution_count": 64,
      "outputs": [
        {
          "output_type": "execute_result",
          "data": {
            "text/html": [
              "<div>\n",
              "<style scoped>\n",
              "    .dataframe tbody tr th:only-of-type {\n",
              "        vertical-align: middle;\n",
              "    }\n",
              "\n",
              "    .dataframe tbody tr th {\n",
              "        vertical-align: top;\n",
              "    }\n",
              "\n",
              "    .dataframe thead th {\n",
              "        text-align: right;\n",
              "    }\n",
              "</style>\n",
              "<table border=\"1\" class=\"dataframe\">\n",
              "  <thead>\n",
              "    <tr style=\"text-align: right;\">\n",
              "      <th></th>\n",
              "      <th>user</th>\n",
              "      <th>preprocessed_text</th>\n",
              "    </tr>\n",
              "  </thead>\n",
              "  <tbody>\n",
              "    <tr>\n",
              "      <th>10064</th>\n",
              "      <td>gunther_nask</td>\n",
              "      <td>eeberquist know trying introduce young readers...</td>\n",
              "    </tr>\n",
              "    <tr>\n",
              "      <th>5319</th>\n",
              "      <td>bondzie007</td>\n",
              "      <td>timmslaney pierrepoilievre many investors peop...</td>\n",
              "    </tr>\n",
              "    <tr>\n",
              "      <th>12</th>\n",
              "      <td>skiino8</td>\n",
              "      <td>coachckennedy time tulane great experience cul...</td>\n",
              "    </tr>\n",
              "    <tr>\n",
              "      <th>11739</th>\n",
              "      <td>KamalHo52194980</td>\n",
              "      <td>khushnumakashm army organised selfdefence clas...</td>\n",
              "    </tr>\n",
              "    <tr>\n",
              "      <th>10913</th>\n",
              "      <td>lance_vamplew</td>\n",
              "      <td>therealukecage super voters practice politics ...</td>\n",
              "    </tr>\n",
              "  </tbody>\n",
              "</table>\n",
              "</div>"
            ],
            "text/plain": [
              "                  user                                  preprocessed_text\n",
              "10064     gunther_nask  eeberquist know trying introduce young readers...\n",
              "5319        bondzie007  timmslaney pierrepoilievre many investors peop...\n",
              "12             skiino8  coachckennedy time tulane great experience cul...\n",
              "11739  KamalHo52194980  khushnumakashm army organised selfdefence clas...\n",
              "10913    lance_vamplew  therealukecage super voters practice politics ..."
            ]
          },
          "metadata": {
            "tags": []
          },
          "execution_count": 64
        }
      ]
    },
    {
      "cell_type": "markdown",
      "metadata": {
        "id": "wminmBsfhWmV"
      },
      "source": [
        "*Calculating sentiment polarity for each tweet*"
      ]
    },
    {
      "cell_type": "code",
      "metadata": {
        "id": "jSsGVPeCtlBG"
      },
      "source": [
        "#generating polarity values\r\n",
        "df['polarity']= df['preprocessed_text'].map(lambda x: TextBlob(x).sentiment.polarity)"
      ],
      "execution_count": 100,
      "outputs": []
    },
    {
      "cell_type": "code",
      "metadata": {
        "colab": {
          "base_uri": "https://localhost:8080/",
          "height": 197
        },
        "id": "TOSu39O-egZc",
        "outputId": "c4fb5a37-577f-49bc-96e1-ee6717fcf005"
      },
      "source": [
        "df.head()"
      ],
      "execution_count": 69,
      "outputs": [
        {
          "output_type": "execute_result",
          "data": {
            "text/html": [
              "<div>\n",
              "<style scoped>\n",
              "    .dataframe tbody tr th:only-of-type {\n",
              "        vertical-align: middle;\n",
              "    }\n",
              "\n",
              "    .dataframe tbody tr th {\n",
              "        vertical-align: top;\n",
              "    }\n",
              "\n",
              "    .dataframe thead th {\n",
              "        text-align: right;\n",
              "    }\n",
              "</style>\n",
              "<table border=\"1\" class=\"dataframe\">\n",
              "  <thead>\n",
              "    <tr style=\"text-align: right;\">\n",
              "      <th></th>\n",
              "      <th>user</th>\n",
              "      <th>preprocessed_text</th>\n",
              "      <th>polarity</th>\n",
              "    </tr>\n",
              "  </thead>\n",
              "  <tbody>\n",
              "    <tr>\n",
              "      <th>10064</th>\n",
              "      <td>gunther_nask</td>\n",
              "      <td>eeberquist know trying introduce young readers...</td>\n",
              "      <td>0.025000</td>\n",
              "    </tr>\n",
              "    <tr>\n",
              "      <th>5319</th>\n",
              "      <td>bondzie007</td>\n",
              "      <td>timmslaney pierrepoilievre many investors peop...</td>\n",
              "      <td>0.250000</td>\n",
              "    </tr>\n",
              "    <tr>\n",
              "      <th>12</th>\n",
              "      <td>skiino8</td>\n",
              "      <td>coachckennedy time tulane great experience cul...</td>\n",
              "      <td>0.800000</td>\n",
              "    </tr>\n",
              "    <tr>\n",
              "      <th>11739</th>\n",
              "      <td>KamalHo52194980</td>\n",
              "      <td>khushnumakashm army organised selfdefence clas...</td>\n",
              "      <td>0.000000</td>\n",
              "    </tr>\n",
              "    <tr>\n",
              "      <th>10913</th>\n",
              "      <td>lance_vamplew</td>\n",
              "      <td>therealukecage super voters practice politics ...</td>\n",
              "      <td>0.166667</td>\n",
              "    </tr>\n",
              "  </tbody>\n",
              "</table>\n",
              "</div>"
            ],
            "text/plain": [
              "                  user  ...  polarity\n",
              "10064     gunther_nask  ...  0.025000\n",
              "5319        bondzie007  ...  0.250000\n",
              "12             skiino8  ...  0.800000\n",
              "11739  KamalHo52194980  ...  0.000000\n",
              "10913    lance_vamplew  ...  0.166667\n",
              "\n",
              "[5 rows x 3 columns]"
            ]
          },
          "metadata": {
            "tags": []
          },
          "execution_count": 69
        }
      ]
    },
    {
      "cell_type": "code",
      "metadata": {
        "colab": {
          "base_uri": "https://localhost:8080/"
        },
        "id": "GAoqtjAdeifE",
        "outputId": "1db95e13-ebfb-4446-9ce1-ef7efa612626"
      },
      "source": [
        "df['polarity'].value_counts()"
      ],
      "execution_count": 70,
      "outputs": [
        {
          "output_type": "execute_result",
          "data": {
            "text/plain": [
              " 0.000000    5031\n",
              "-0.500000     289\n",
              "-0.050000     289\n",
              " 0.200000     288\n",
              "-0.250000     278\n",
              "             ... \n",
              "-0.175000       1\n",
              " 0.056250       1\n",
              "-0.263889       1\n",
              "-0.245833       1\n",
              " 0.188889       1\n",
              "Name: polarity, Length: 555, dtype: int64"
            ]
          },
          "metadata": {
            "tags": []
          },
          "execution_count": 70
        }
      ]
    },
    {
      "cell_type": "code",
      "metadata": {
        "id": "pnsjUIreeoAr"
      },
      "source": [
        "df['sentiment'] = df['polarity'].map(lambda x: 1  if (x>0) else (-1 if x<0 else x))"
      ],
      "execution_count": 101,
      "outputs": []
    },
    {
      "cell_type": "code",
      "metadata": {
        "colab": {
          "base_uri": "https://localhost:8080/",
          "height": 197
        },
        "id": "6axf8GfLfPE5",
        "outputId": "ab285f3a-b404-4abc-de29-cc301e855d1a"
      },
      "source": [
        "df.head()"
      ],
      "execution_count": 102,
      "outputs": [
        {
          "output_type": "execute_result",
          "data": {
            "text/html": [
              "<div>\n",
              "<style scoped>\n",
              "    .dataframe tbody tr th:only-of-type {\n",
              "        vertical-align: middle;\n",
              "    }\n",
              "\n",
              "    .dataframe tbody tr th {\n",
              "        vertical-align: top;\n",
              "    }\n",
              "\n",
              "    .dataframe thead th {\n",
              "        text-align: right;\n",
              "    }\n",
              "</style>\n",
              "<table border=\"1\" class=\"dataframe\">\n",
              "  <thead>\n",
              "    <tr style=\"text-align: right;\">\n",
              "      <th></th>\n",
              "      <th>Text</th>\n",
              "      <th>category</th>\n",
              "      <th>preprocessed_text</th>\n",
              "      <th>polarity</th>\n",
              "      <th>sentiment</th>\n",
              "    </tr>\n",
              "  </thead>\n",
              "  <tbody>\n",
              "    <tr>\n",
              "      <th>10951</th>\n",
              "      <td>RT @myhlee: NEW: Trump asks Pennsylvania House...</td>\n",
              "      <td>3</td>\n",
              "      <td>myhlee trump asks pennsylvania house speaker h...</td>\n",
              "      <td>0.000000</td>\n",
              "      <td>0.0</td>\n",
              "    </tr>\n",
              "    <tr>\n",
              "      <th>5691</th>\n",
              "      <td>RT @OSSRobertSteele: The Steele Report – Grade...</td>\n",
              "      <td>1</td>\n",
              "      <td>ossrobertsteele steele report grades topics to...</td>\n",
              "      <td>-0.100000</td>\n",
              "      <td>-1.0</td>\n",
              "    </tr>\n",
              "    <tr>\n",
              "      <th>221</th>\n",
              "      <td>Governors of Western USA burning culture out o...</td>\n",
              "      <td>0</td>\n",
              "      <td>governors western burning culture communities</td>\n",
              "      <td>0.000000</td>\n",
              "      <td>0.0</td>\n",
              "    </tr>\n",
              "    <tr>\n",
              "      <th>2740</th>\n",
              "      <td>RT @AnnKumfer: ☄️High risk conditions (such as...</td>\n",
              "      <td>0</td>\n",
              "      <td>annkumfer high risk conditions meningitis endo...</td>\n",
              "      <td>0.160000</td>\n",
              "      <td>1.0</td>\n",
              "    </tr>\n",
              "    <tr>\n",
              "      <th>9768</th>\n",
              "      <td>RT @a_sandhan: Middle obsession with corruptio...</td>\n",
              "      <td>3</td>\n",
              "      <td>sandhan middle obsession corruption issues cle...</td>\n",
              "      <td>0.183333</td>\n",
              "      <td>1.0</td>\n",
              "    </tr>\n",
              "  </tbody>\n",
              "</table>\n",
              "</div>"
            ],
            "text/plain": [
              "                                                    Text  ...  sentiment\n",
              "10951  RT @myhlee: NEW: Trump asks Pennsylvania House...  ...        0.0\n",
              "5691   RT @OSSRobertSteele: The Steele Report – Grade...  ...       -1.0\n",
              "221    Governors of Western USA burning culture out o...  ...        0.0\n",
              "2740   RT @AnnKumfer: ☄️High risk conditions (such as...  ...        1.0\n",
              "9768   RT @a_sandhan: Middle obsession with corruptio...  ...        1.0\n",
              "\n",
              "[5 rows x 5 columns]"
            ]
          },
          "metadata": {
            "tags": []
          },
          "execution_count": 102
        }
      ]
    },
    {
      "cell_type": "code",
      "metadata": {
        "colab": {
          "base_uri": "https://localhost:8080/"
        },
        "id": "RP4aayTHfwxC",
        "outputId": "a58d30c2-25c8-4022-8732-c03d0cb0980a"
      },
      "source": [
        "df['sentiment'].value_counts()"
      ],
      "execution_count": 103,
      "outputs": [
        {
          "output_type": "execute_result",
          "data": {
            "text/plain": [
              " 0.0    5031\n",
              " 1.0    4092\n",
              "-1.0    2645\n",
              "Name: sentiment, dtype: int64"
            ]
          },
          "metadata": {
            "tags": []
          },
          "execution_count": 103
        }
      ]
    },
    {
      "cell_type": "code",
      "metadata": {
        "colab": {
          "base_uri": "https://localhost:8080/",
          "height": 473
        },
        "id": "EvhuTZd_awyI",
        "outputId": "f107ea65-9663-4ad1-c0c4-4a473dfa4e57"
      },
      "source": [
        "df.groupby(['category', 'sentiment'])['category','sentiment'].count()"
      ],
      "execution_count": 105,
      "outputs": [
        {
          "output_type": "stream",
          "text": [
            "/usr/local/lib/python3.6/dist-packages/ipykernel_launcher.py:1: FutureWarning: Indexing with multiple keys (implicitly converted to a tuple of keys) will be deprecated, use a list instead.\n",
            "  \"\"\"Entry point for launching an IPython kernel.\n"
          ],
          "name": "stderr"
        },
        {
          "output_type": "execute_result",
          "data": {
            "text/html": [
              "<div>\n",
              "<style scoped>\n",
              "    .dataframe tbody tr th:only-of-type {\n",
              "        vertical-align: middle;\n",
              "    }\n",
              "\n",
              "    .dataframe tbody tr th {\n",
              "        vertical-align: top;\n",
              "    }\n",
              "\n",
              "    .dataframe thead th {\n",
              "        text-align: right;\n",
              "    }\n",
              "</style>\n",
              "<table border=\"1\" class=\"dataframe\">\n",
              "  <thead>\n",
              "    <tr style=\"text-align: right;\">\n",
              "      <th></th>\n",
              "      <th></th>\n",
              "      <th>category</th>\n",
              "      <th>sentiment</th>\n",
              "    </tr>\n",
              "    <tr>\n",
              "      <th>category</th>\n",
              "      <th>sentiment</th>\n",
              "      <th></th>\n",
              "      <th></th>\n",
              "    </tr>\n",
              "  </thead>\n",
              "  <tbody>\n",
              "    <tr>\n",
              "      <th rowspan=\"3\" valign=\"top\">0</th>\n",
              "      <th>-1.0</th>\n",
              "      <td>563</td>\n",
              "      <td>563</td>\n",
              "    </tr>\n",
              "    <tr>\n",
              "      <th>0.0</th>\n",
              "      <td>1124</td>\n",
              "      <td>1124</td>\n",
              "    </tr>\n",
              "    <tr>\n",
              "      <th>1.0</th>\n",
              "      <td>818</td>\n",
              "      <td>818</td>\n",
              "    </tr>\n",
              "    <tr>\n",
              "      <th rowspan=\"3\" valign=\"top\">1</th>\n",
              "      <th>-1.0</th>\n",
              "      <td>485</td>\n",
              "      <td>485</td>\n",
              "    </tr>\n",
              "    <tr>\n",
              "      <th>0.0</th>\n",
              "      <td>1121</td>\n",
              "      <td>1121</td>\n",
              "    </tr>\n",
              "    <tr>\n",
              "      <th>1.0</th>\n",
              "      <td>1049</td>\n",
              "      <td>1049</td>\n",
              "    </tr>\n",
              "    <tr>\n",
              "      <th rowspan=\"3\" valign=\"top\">2</th>\n",
              "      <th>-1.0</th>\n",
              "      <td>317</td>\n",
              "      <td>317</td>\n",
              "    </tr>\n",
              "    <tr>\n",
              "      <th>0.0</th>\n",
              "      <td>952</td>\n",
              "      <td>952</td>\n",
              "    </tr>\n",
              "    <tr>\n",
              "      <th>1.0</th>\n",
              "      <td>822</td>\n",
              "      <td>822</td>\n",
              "    </tr>\n",
              "    <tr>\n",
              "      <th rowspan=\"3\" valign=\"top\">3</th>\n",
              "      <th>-1.0</th>\n",
              "      <td>1280</td>\n",
              "      <td>1280</td>\n",
              "    </tr>\n",
              "    <tr>\n",
              "      <th>0.0</th>\n",
              "      <td>1834</td>\n",
              "      <td>1834</td>\n",
              "    </tr>\n",
              "    <tr>\n",
              "      <th>1.0</th>\n",
              "      <td>1403</td>\n",
              "      <td>1403</td>\n",
              "    </tr>\n",
              "  </tbody>\n",
              "</table>\n",
              "</div>"
            ],
            "text/plain": [
              "                    category  sentiment\n",
              "category sentiment                     \n",
              "0        -1.0            563        563\n",
              "          0.0           1124       1124\n",
              "          1.0            818        818\n",
              "1        -1.0            485        485\n",
              "          0.0           1121       1121\n",
              "          1.0           1049       1049\n",
              "2        -1.0            317        317\n",
              "          0.0            952        952\n",
              "          1.0            822        822\n",
              "3        -1.0           1280       1280\n",
              "          0.0           1834       1834\n",
              "          1.0           1403       1403"
            ]
          },
          "metadata": {
            "tags": []
          },
          "execution_count": 0
        }
      ]
    },
    {
      "cell_type": "code",
      "metadata": {
        "id": "qZp7_x6wjP_j"
      },
      "source": [
        ">>> X_train, X_test, y_train, y_test = sklearn.model_selection.train_test_split(df['preprocessed_text'], df['sentiment'], test_size=0.2, random_state=42)\r\n"
      ],
      "execution_count": 106,
      "outputs": []
    },
    {
      "cell_type": "code",
      "metadata": {
        "colab": {
          "base_uri": "https://localhost:8080/"
        },
        "id": "kpCcpek7kAgD",
        "outputId": "42a86be1-ebb2-4cc4-eebc-90f086a7b1eb"
      },
      "source": [
        "SVM_clf = Pipeline([('vect', CountVectorizer()),\r\n",
        "                     ('tfidf', TfidfTransformer()),\r\n",
        "                     ('clf', LinearSVC()),\r\n",
        "                     ])\r\n",
        "\r\n",
        "SVM_clf.fit(X_train, y_train)\r\n",
        "\r\n",
        "predicted = SVM_clf.predict(X_test)\r\n",
        "\r\n",
        "print(metrics.classification_report(y_test, predicted))"
      ],
      "execution_count": 107,
      "outputs": [
        {
          "output_type": "stream",
          "text": [
            "              precision    recall  f1-score   support\n",
            "\n",
            "        -1.0       0.94      0.84      0.89       540\n",
            "         0.0       0.86      0.96      0.91       963\n",
            "         1.0       0.94      0.88      0.91       851\n",
            "\n",
            "    accuracy                           0.90      2354\n",
            "   macro avg       0.91      0.89      0.90      2354\n",
            "weighted avg       0.91      0.90      0.90      2354\n",
            "\n"
          ],
          "name": "stdout"
        }
      ]
    },
    {
      "cell_type": "code",
      "metadata": {
        "id": "g76oddp_k_dN"
      },
      "source": [
        "#saving model \r\n",
        "pickle.dump(SVM_clf, open(\"SVM_sent_clf\", 'wb'))"
      ],
      "execution_count": null,
      "outputs": []
    },
    {
      "cell_type": "markdown",
      "metadata": {
        "id": "Jk6WrsxUmxwE"
      },
      "source": [
        "# Part 3: Topic Modelling"
      ]
    },
    {
      "cell_type": "markdown",
      "metadata": {
        "id": "vJPTfUqKfrBe"
      },
      "source": [
        "**Installing pyLDAvis for visualization**"
      ]
    },
    {
      "cell_type": "code",
      "metadata": {
        "colab": {
          "base_uri": "https://localhost:8080/"
        },
        "id": "qHePi8des489",
        "outputId": "18fbdd04-0422-4e25-ff8c-1c104fb41736"
      },
      "source": [
        "!pip install pyLDAvis"
      ],
      "execution_count": 108,
      "outputs": [
        {
          "output_type": "stream",
          "text": [
            "Collecting pyLDAvis\n",
            "\u001b[?25l  Downloading https://files.pythonhosted.org/packages/a5/3a/af82e070a8a96e13217c8f362f9a73e82d61ac8fff3a2561946a97f96266/pyLDAvis-2.1.2.tar.gz (1.6MB)\n",
            "\u001b[K     |████████████████████████████████| 1.6MB 12.7MB/s \n",
            "\u001b[?25hRequirement already satisfied: wheel>=0.23.0 in /usr/local/lib/python3.6/dist-packages (from pyLDAvis) (0.36.2)\n",
            "Requirement already satisfied: numpy>=1.9.2 in /usr/local/lib/python3.6/dist-packages (from pyLDAvis) (1.19.5)\n",
            "Requirement already satisfied: scipy>=0.18.0 in /usr/local/lib/python3.6/dist-packages (from pyLDAvis) (1.4.1)\n",
            "Requirement already satisfied: pandas>=0.17.0 in /usr/local/lib/python3.6/dist-packages (from pyLDAvis) (1.1.5)\n",
            "Requirement already satisfied: joblib>=0.8.4 in /usr/local/lib/python3.6/dist-packages (from pyLDAvis) (1.0.0)\n",
            "Requirement already satisfied: jinja2>=2.7.2 in /usr/local/lib/python3.6/dist-packages (from pyLDAvis) (2.11.2)\n",
            "Requirement already satisfied: numexpr in /usr/local/lib/python3.6/dist-packages (from pyLDAvis) (2.7.2)\n",
            "Requirement already satisfied: pytest in /usr/local/lib/python3.6/dist-packages (from pyLDAvis) (3.6.4)\n",
            "Requirement already satisfied: future in /usr/local/lib/python3.6/dist-packages (from pyLDAvis) (0.16.0)\n",
            "Collecting funcy\n",
            "  Downloading https://files.pythonhosted.org/packages/66/89/479de0afbbfb98d1c4b887936808764627300208bb771fcd823403645a36/funcy-1.15-py2.py3-none-any.whl\n",
            "Requirement already satisfied: pytz>=2017.2 in /usr/local/lib/python3.6/dist-packages (from pandas>=0.17.0->pyLDAvis) (2018.9)\n",
            "Requirement already satisfied: python-dateutil>=2.7.3 in /usr/local/lib/python3.6/dist-packages (from pandas>=0.17.0->pyLDAvis) (2.8.1)\n",
            "Requirement already satisfied: MarkupSafe>=0.23 in /usr/local/lib/python3.6/dist-packages (from jinja2>=2.7.2->pyLDAvis) (1.1.1)\n",
            "Requirement already satisfied: attrs>=17.4.0 in /usr/local/lib/python3.6/dist-packages (from pytest->pyLDAvis) (20.3.0)\n",
            "Requirement already satisfied: setuptools in /usr/local/lib/python3.6/dist-packages (from pytest->pyLDAvis) (51.3.3)\n",
            "Requirement already satisfied: pluggy<0.8,>=0.5 in /usr/local/lib/python3.6/dist-packages (from pytest->pyLDAvis) (0.7.1)\n",
            "Requirement already satisfied: more-itertools>=4.0.0 in /usr/local/lib/python3.6/dist-packages (from pytest->pyLDAvis) (8.6.0)\n",
            "Requirement already satisfied: py>=1.5.0 in /usr/local/lib/python3.6/dist-packages (from pytest->pyLDAvis) (1.10.0)\n",
            "Requirement already satisfied: six>=1.10.0 in /usr/local/lib/python3.6/dist-packages (from pytest->pyLDAvis) (1.15.0)\n",
            "Requirement already satisfied: atomicwrites>=1.0 in /usr/local/lib/python3.6/dist-packages (from pytest->pyLDAvis) (1.4.0)\n",
            "Building wheels for collected packages: pyLDAvis\n",
            "  Building wheel for pyLDAvis (setup.py) ... \u001b[?25l\u001b[?25hdone\n",
            "  Created wheel for pyLDAvis: filename=pyLDAvis-2.1.2-py2.py3-none-any.whl size=97712 sha256=ab97d635a4b5bb0c1a273c14343117858d0e9d0597fcbc18ec6859d493a7eaee\n",
            "  Stored in directory: /root/.cache/pip/wheels/98/71/24/513a99e58bb6b8465bae4d2d5e9dba8f0bef8179e3051ac414\n",
            "Successfully built pyLDAvis\n",
            "Installing collected packages: funcy, pyLDAvis\n",
            "Successfully installed funcy-1.15 pyLDAvis-2.1.2\n"
          ],
          "name": "stdout"
        }
      ]
    },
    {
      "cell_type": "code",
      "metadata": {
        "id": "visySJvImwaV"
      },
      "source": [
        "from sklearn.decomposition import LatentDirichletAllocation\r\n",
        "import logging\r\n",
        "import pyLDAvis\r\n",
        "import warnings\r\n"
      ],
      "execution_count": 109,
      "outputs": []
    },
    {
      "cell_type": "markdown",
      "metadata": {
        "id": "bqTQHKe2f4Nl"
      },
      "source": [
        "*Tokenizing tweets*"
      ]
    },
    {
      "cell_type": "code",
      "metadata": {
        "id": "kgHsa-DPxPsv"
      },
      "source": [
        "df['tweets_tokenized'] = df['preprocessed_text'].map(lambda x: tknzr.tokenize(x))"
      ],
      "execution_count": 110,
      "outputs": []
    },
    {
      "cell_type": "code",
      "metadata": {
        "colab": {
          "base_uri": "https://localhost:8080/",
          "height": 197
        },
        "id": "88CZpyNMkprK",
        "outputId": "bbff49c7-bb30-41b0-fb77-aab6b62090bc"
      },
      "source": [
        "df.head()"
      ],
      "execution_count": 111,
      "outputs": [
        {
          "output_type": "execute_result",
          "data": {
            "text/html": [
              "<div>\n",
              "<style scoped>\n",
              "    .dataframe tbody tr th:only-of-type {\n",
              "        vertical-align: middle;\n",
              "    }\n",
              "\n",
              "    .dataframe tbody tr th {\n",
              "        vertical-align: top;\n",
              "    }\n",
              "\n",
              "    .dataframe thead th {\n",
              "        text-align: right;\n",
              "    }\n",
              "</style>\n",
              "<table border=\"1\" class=\"dataframe\">\n",
              "  <thead>\n",
              "    <tr style=\"text-align: right;\">\n",
              "      <th></th>\n",
              "      <th>Text</th>\n",
              "      <th>category</th>\n",
              "      <th>preprocessed_text</th>\n",
              "      <th>polarity</th>\n",
              "      <th>sentiment</th>\n",
              "      <th>tweets_tokenized</th>\n",
              "    </tr>\n",
              "  </thead>\n",
              "  <tbody>\n",
              "    <tr>\n",
              "      <th>10951</th>\n",
              "      <td>RT @myhlee: NEW: Trump asks Pennsylvania House...</td>\n",
              "      <td>3</td>\n",
              "      <td>myhlee trump asks pennsylvania house speaker h...</td>\n",
              "      <td>0.000000</td>\n",
              "      <td>0.0</td>\n",
              "      <td>[myhlee, trump, asks, pennsylvania, house, spe...</td>\n",
              "    </tr>\n",
              "    <tr>\n",
              "      <th>5691</th>\n",
              "      <td>RT @OSSRobertSteele: The Steele Report – Grade...</td>\n",
              "      <td>1</td>\n",
              "      <td>ossrobertsteele steele report grades topics to...</td>\n",
              "      <td>-0.100000</td>\n",
              "      <td>-1.0</td>\n",
              "      <td>[ossrobertsteele, steele, report, grades, topi...</td>\n",
              "    </tr>\n",
              "    <tr>\n",
              "      <th>221</th>\n",
              "      <td>Governors of Western USA burning culture out o...</td>\n",
              "      <td>0</td>\n",
              "      <td>governors western burning culture communities</td>\n",
              "      <td>0.000000</td>\n",
              "      <td>0.0</td>\n",
              "      <td>[governors, western, burning, culture, communi...</td>\n",
              "    </tr>\n",
              "    <tr>\n",
              "      <th>2740</th>\n",
              "      <td>RT @AnnKumfer: ☄️High risk conditions (such as...</td>\n",
              "      <td>0</td>\n",
              "      <td>annkumfer high risk conditions meningitis endo...</td>\n",
              "      <td>0.160000</td>\n",
              "      <td>1.0</td>\n",
              "      <td>[annkumfer, high, risk, conditions, meningitis...</td>\n",
              "    </tr>\n",
              "    <tr>\n",
              "      <th>9768</th>\n",
              "      <td>RT @a_sandhan: Middle obsession with corruptio...</td>\n",
              "      <td>3</td>\n",
              "      <td>sandhan middle obsession corruption issues cle...</td>\n",
              "      <td>0.183333</td>\n",
              "      <td>1.0</td>\n",
              "      <td>[sandhan, middle, obsession, corruption, issue...</td>\n",
              "    </tr>\n",
              "  </tbody>\n",
              "</table>\n",
              "</div>"
            ],
            "text/plain": [
              "                                                    Text  ...                                   tweets_tokenized\n",
              "10951  RT @myhlee: NEW: Trump asks Pennsylvania House...  ...  [myhlee, trump, asks, pennsylvania, house, spe...\n",
              "5691   RT @OSSRobertSteele: The Steele Report – Grade...  ...  [ossrobertsteele, steele, report, grades, topi...\n",
              "221    Governors of Western USA burning culture out o...  ...  [governors, western, burning, culture, communi...\n",
              "2740   RT @AnnKumfer: ☄️High risk conditions (such as...  ...  [annkumfer, high, risk, conditions, meningitis...\n",
              "9768   RT @a_sandhan: Middle obsession with corruptio...  ...  [sandhan, middle, obsession, corruption, issue...\n",
              "\n",
              "[5 rows x 6 columns]"
            ]
          },
          "metadata": {
            "tags": []
          },
          "execution_count": 111
        }
      ]
    },
    {
      "cell_type": "markdown",
      "metadata": {
        "id": "vd--cOjNgCkD"
      },
      "source": [
        "*Vizualizing an example*"
      ]
    },
    {
      "cell_type": "code",
      "metadata": {
        "colab": {
          "base_uri": "https://localhost:8080/",
          "height": 35
        },
        "id": "I-_CImuWsOHa",
        "outputId": "1be8ab76-4917-4b1d-8063-f2697d30fc45"
      },
      "source": [
        "df['Text'][10951]"
      ],
      "execution_count": 116,
      "outputs": [
        {
          "output_type": "execute_result",
          "data": {
            "application/vnd.google.colaboratory.intrinsic+json": {
              "type": "string"
            },
            "text/plain": [
              "'RT @myhlee: NEW: Trump asks Pennsylvania House speaker for help overturning election results, personally intervening in a third state. Scoo…'"
            ]
          },
          "metadata": {
            "tags": []
          },
          "execution_count": 116
        }
      ]
    },
    {
      "cell_type": "code",
      "metadata": {
        "colab": {
          "base_uri": "https://localhost:8080/",
          "height": 35
        },
        "id": "nNr4OlA3sR_H",
        "outputId": "26389825-f015-46f3-d05b-618bd17f5dae"
      },
      "source": [
        "df['preprocessed_text'][10951]"
      ],
      "execution_count": 117,
      "outputs": [
        {
          "output_type": "execute_result",
          "data": {
            "application/vnd.google.colaboratory.intrinsic+json": {
              "type": "string"
            },
            "text/plain": [
              "'myhlee trump asks pennsylvania house speaker help overturning election results personally intervening third state scoo'"
            ]
          },
          "metadata": {
            "tags": []
          },
          "execution_count": 117
        }
      ]
    },
    {
      "cell_type": "markdown",
      "metadata": {
        "id": "KgOct_5ugN80"
      },
      "source": [
        "*Preparing our id2word dictionarry*"
      ]
    },
    {
      "cell_type": "code",
      "metadata": {
        "id": "Epu2tOpRxHp0"
      },
      "source": [
        "dictionary = gensim.corpora.Dictionary(df['tweets_tokenized'])"
      ],
      "execution_count": 118,
      "outputs": []
    },
    {
      "cell_type": "code",
      "metadata": {
        "colab": {
          "base_uri": "https://localhost:8080/"
        },
        "id": "OuX0ypTaxcGJ",
        "outputId": "1ad23e82-c512-4924-e982-7160ae08b2d0"
      },
      "source": [
        "count = 0\r\n",
        "for k, v in dictionary.iteritems():\r\n",
        "    print(k, v)\r\n",
        "    count += 1\r\n",
        "    if count > 10:\r\n",
        "        break"
      ],
      "execution_count": 119,
      "outputs": [
        {
          "output_type": "stream",
          "text": [
            "0 asks\n",
            "1 election\n",
            "2 help\n",
            "3 house\n",
            "4 intervening\n",
            "5 myhlee\n",
            "6 overturning\n",
            "7 pennsylvania\n",
            "8 personally\n",
            "9 results\n",
            "10 scoo\n"
          ],
          "name": "stdout"
        }
      ]
    },
    {
      "cell_type": "code",
      "metadata": {
        "id": "WALyeKdxEznX"
      },
      "source": [
        "#dictionary.filter_extremes(no_below=5, keep_n=100000)"
      ],
      "execution_count": 277,
      "outputs": []
    },
    {
      "cell_type": "markdown",
      "metadata": {
        "id": "le0jgCKKgWvs"
      },
      "source": [
        "*Preparing BOW Corpus* // "
      ]
    },
    {
      "cell_type": "code",
      "metadata": {
        "colab": {
          "base_uri": "https://localhost:8080/"
        },
        "id": "KGfJYxWmDlqU",
        "outputId": "408ba851-1c3d-4de9-a822-a2b90e8c5a2b"
      },
      "source": [
        "bow_corpus = [dictionary.doc2bow(doc) for doc in df['tweets_tokenized']]\r\n",
        "bow_corpus[4310]"
      ],
      "execution_count": 120,
      "outputs": [
        {
          "output_type": "execute_result",
          "data": {
            "text/plain": [
              "[(78, 1),\n",
              " (793, 1),\n",
              " (1962, 1),\n",
              " (5911, 1),\n",
              " (9255, 1),\n",
              " (9256, 1),\n",
              " (9257, 1),\n",
              " (9258, 1)]"
            ]
          },
          "metadata": {
            "tags": []
          },
          "execution_count": 120
        }
      ]
    },
    {
      "cell_type": "markdown",
      "metadata": {
        "id": "rTCb5sXmghNT"
      },
      "source": [
        "*Training LDA model*"
      ]
    },
    {
      "cell_type": "code",
      "metadata": {
        "id": "7Bwr8-h3D9d-"
      },
      "source": [
        "num_topics = 4\r\n",
        "lda_model = gensim.models.LdaMulticore(bow_corpus, num_topics=num_topics, id2word=dictionary)"
      ],
      "execution_count": null,
      "outputs": []
    },
    {
      "cell_type": "markdown",
      "metadata": {
        "id": "pF6Ti__nhCmu"
      },
      "source": [
        "*Printing topics generated by LDA*"
      ]
    },
    {
      "cell_type": "code",
      "metadata": {
        "colab": {
          "base_uri": "https://localhost:8080/"
        },
        "id": "wvrzF48ly2L8",
        "outputId": "1c6b2e52-3116-4739-d2f2-575bd5bf0cd0"
      },
      "source": [
        "from pprint import pprint\r\n",
        "# number of topics\r\n",
        "pprint(lda_model.print_topics())\r\n"
      ],
      "execution_count": 126,
      "outputs": [
        {
          "output_type": "stream",
          "text": [
            "[(0,\n",
            "  '0.020*\"sport\" + 0.015*\"biden\" + 0.014*\"defense\" + 0.014*\"austin\" + '\n",
            "  '0.013*\"culture\" + 0.012*\"lloyd\" + 0.011*\"secretary\" + 0.011*\"retired\" + '\n",
            "  '0.009*\"stan\" + 0.009*\"going\"'),\n",
            " (1,\n",
            "  '0.028*\"economy\" + 0.013*\"politics\" + 0.010*\"covid\" + 0.010*\"culture\" + '\n",
            "  '0.010*\"people\" + 0.008*\"like\" + 0.008*\"would\" + 0.008*\"sport\" + '\n",
            "  '0.007*\"trump\" + 0.006*\"best\"'),\n",
            " (2,\n",
            "  '0.020*\"culture\" + 0.011*\"sport\" + 0.007*\"trump\" + 0.006*\"games\" + '\n",
            "  '0.005*\"olympic\" + 0.004*\"economy\" + 0.003*\"politics\" + 0.003*\"people\" + '\n",
            "  '0.003*\"president\" + 0.003*\"know\"'),\n",
            " (3,\n",
            "  '0.034*\"trump\" + 0.022*\"election\" + 0.021*\"pennsylvania\" + 0.019*\"speaker\" + '\n",
            "  '0.018*\"house\" + 0.018*\"help\" + 0.016*\"results\" + 0.013*\"asks\" + '\n",
            "  '0.012*\"overturning\" + 0.010*\"state\"')]\n"
          ],
          "name": "stdout"
        }
      ]
    },
    {
      "cell_type": "markdown",
      "metadata": {
        "id": "_chWZzJKXUo4"
      },
      "source": [
        "## LDA Topics Visualization"
      ]
    },
    {
      "cell_type": "code",
      "metadata": {
        "colab": {
          "base_uri": "https://localhost:8080/",
          "height": 861
        },
        "id": "lEtYa6C91Ai-",
        "outputId": "e29af18d-a5fd-4675-918d-562caf9bfc9d"
      },
      "source": [
        "import pyLDAvis.gensim\r\n",
        "import pickle \r\n",
        "import pyLDAvis\r\n",
        "import os\r\n",
        "# Visualize the topics\r\n",
        "pyLDAvis.enable_notebook()\r\n",
        "LDAvis_data_filepath = os.path.join('/content/drive/MyDrive/Textmining/results/ldavis_prepared_'+str(num_topics))\r\n",
        "# # this is a bit time consuming - make the if statement True\r\n",
        "# # if you want to execute visualization prep yourself\r\n",
        "if 1 == 1:\r\n",
        "    LDAvis_prepared = pyLDAvis.gensim.prepare(lda_model, bow_corpus, dictionary)\r\n",
        "    with open(LDAvis_data_filepath, 'wb') as f:\r\n",
        "        pickle.dump(LDAvis_prepared, f)\r\n",
        "# load the pre-prepared pyLDAvis data from disk\r\n",
        "with open(LDAvis_data_filepath, 'rb') as f:\r\n",
        "    LDAvis_prepared = pickle.load(f)\r\n",
        "pyLDAvis.save_html(LDAvis_prepared, '/content/drive/MyDrive/Textmining/results/ldavis_prepared_'+ str(num_topics) +'.html')\r\n",
        "LDAvis_prepared\r\n"
      ],
      "execution_count": 129,
      "outputs": [
        {
          "output_type": "execute_result",
          "data": {
            "text/html": [
              "\n",
              "<link rel=\"stylesheet\" type=\"text/css\" href=\"https://cdn.rawgit.com/bmabey/pyLDAvis/files/ldavis.v1.0.0.css\">\n",
              "\n",
              "\n",
              "<div id=\"ldavis_el621401244311521367284931365\"></div>\n",
              "<script type=\"text/javascript\">\n",
              "\n",
              "var ldavis_el621401244311521367284931365_data = {\"mdsDat\": {\"x\": [-0.07118630293216245, 0.20260453285777708, -0.07199935984183521, -0.059418870083779315], \"y\": [0.15717121313027543, -0.00021392170436643868, -0.151468998886182, -0.00548829253972696], \"topics\": [1, 2, 3, 4], \"cluster\": [1, 1, 1, 1], \"Freq\": [28.731048891759247, 26.06437580276654, 23.906615720728087, 21.297959584746128]}, \"tinfo\": {\"Term\": [\"pennsylvania\", \"help\", \"election\", \"speaker\", \"results\", \"trump\", \"austin\", \"asks\", \"defense\", \"house\", \"overturning\", \"lloyd\", \"biden\", \"retired\", \"economy\", \"secretary\", \"personally\", \"intervening\", \"third\", \"stans\", \"sport\", \"covid\", \"state\", \"stan\", \"toxic\", \"track\", \"strange\", \"ableist\", \"profile\", \"dangelno\", \"contain\", \"providing\", \"chilling\", \"attempted\", \"viewed\", \"scottadamssays\", \"rbreich\", \"ronbrownstein\", \"track\", \"civil\", \"horrible\", \"interes\", \"skeletonpup\", \"blowing\", \"coup\", \"mean\", \"aside\", \"human\", \"capitalist\", \"stay\", \"forgetting\", \"relief\", \"adhdelaide\", \"strangers\", \"home\", \"chronically\", \"doomed\", \"disaster\", \"karlousm\", \"secure\", \"pelosi\", \"actions\", \"pussy\", \"mind\", \"domestic\", \"reading\", \"idea\", \"covid\", \"good\", \"economy\", \"best\", \"like\", \"point\", \"politics\", \"many\", \"people\", \"would\", \"culture\", \"sport\", \"trump\", \"anything\", \"back\", \"past\", \"games\", \"intervening\", \"dictator\", \"mateagold\", \"siskind\", \"joenbc\", \"overturning\", \"personally\", \"mitch\", \"asks\", \"scoo\", \"famil\", \"checks\", \"sethn\", \"impeach\", \"overturnin\", \"plain\", \"sight\", \"darkens\", \"blindness\", \"overturn\", \"repjayapal\", \"expose\", \"poll\", \"chair\", \"http\", \"afloat\", \"mviser\", \"exploring\", \"fett\", \"kept\", \"help\", \"results\", \"third\", \"temuera\", \"drawstom\", \"thema\", \"election\", \"atrupar\", \"complaint\", \"pennsylvania\", \"unsealed\", \"speaker\", \"scoop\", \"contra\", \"kannoyoungs\", \"house\", \"security\", \"state\", \"talking\", \"trump\", \"directly\", \"often\", \"called\", \"michigan\", \"georgia\", \"republicans\", \"adhd\", \"twice\", \"week\", \"president\", \"culture\", \"past\", \"economy\", \"elect\", \"politics\", \"time\", \"ableist\", \"profile\", \"strange\", \"dangelno\", \"stans\", \"dabegean\", \"flowrestling\", \"joerogan\", \"commentate\", \"odds\", \"shocker\", \"fandom\", \"lloyd\", \"austin\", \"career\", \"generalise\", \"selects\", \"spifeyy\", \"retired\", \"misinterprets\", \"concisely\", \"usatoday\", \"pentagon\", \"iran\", \"department\", \"pentago\", \"cnnbrk\", \"charge\", \"cwebbonline\", \"throwback\", \"rwpusa\", \"knows\", \"star\", \"ignorant\", \"defense\", \"secretary\", \"everyone\", \"army\", \"selected\", \"source\", \"toxic\", \"chief\", \"biden\", \"stan\", \"going\", \"sport\", \"wapo\", \"name\", \"kylegriffin\", \"breaking\", \"first\", \"representatives\", \"olympic\", \"culture\", \"reques\", \"would\", \"black\", \"breakdancing\", \"week\", \"people\", \"politics\", \"economy\", \"trump\", \"emails\", \"toadsanime\", \"avoids\", \"developer\", \"banning\", \"hades\", \"respond\", \"tommy\", \"bare\", \"replacing\", \"fantastic\", \"workplace\", \"lenikacruz\", \"masking\", \"desselle\", \"hiding\", \"disappointing\", \"onyxaminedlife\", \"natalie\", \"felt\", \"missed\", \"johnjharwood\", \"uncomfortable\", \"sorely\", \"universal\", \"blocked\", \"withstood\", \"nbra\", \"piece\", \"financed\", \"promises\", \"scrutiny\", \"activities\", \"unfollow\", \"aires\", \"crunch\", \"buenos\", \"mexico\", \"throat\", \"usin\", \"inuk\", \"missionaries\", \"shina\", \"weekend\", \"banned\", \"singing\", \"nowthisnews\", \"novalinga\", \"high\", \"success\", \"creator\", \"leave\", \"culture\", \"christian\", \"games\", \"sport\", \"olympic\", \"jawshalt\", \"group\", \"youth\", \"never\", \"still\", \"health\", \"trump\", \"know\", \"year\", \"office\", \"race\", \"life\", \"supergiant\", \"president\", \"stan\", \"economy\", \"make\", \"politics\", \"people\"], \"Freq\": [724.0, 580.0, 746.0, 655.0, 513.0, 1537.0, 393.0, 395.0, 434.0, 677.0, 362.0, 337.0, 514.0, 301.0, 1358.0, 348.0, 255.0, 249.0, 277.0, 218.0, 1172.0, 400.0, 390.0, 355.0, 245.0, 205.0, 174.0, 171.0, 171.0, 171.0, 164.64735106007342, 168.28372247025527, 109.48281379821292, 110.05421023554418, 107.4701232390664, 154.2823149507559, 184.6866823800876, 107.02133233836582, 203.70005916200373, 57.477021045502546, 151.87204560485728, 52.97608719462265, 77.6123400556879, 78.0522116429257, 110.90676740484928, 190.40212552264796, 161.09523836502925, 165.84107586082692, 43.70919291168159, 171.70143838966695, 38.52266661406182, 183.31900761782225, 36.107606834100075, 36.10680907700589, 188.52927205336644, 36.101357088279315, 62.48077146410021, 169.37410464957907, 61.60985420713486, 35.290567367227155, 162.26731087079725, 109.48011309858676, 62.984525882840884, 98.77975438784748, 50.89174637392454, 88.50325764149008, 69.66319261541047, 344.57238089640845, 199.61524708594314, 930.9785128842534, 209.85896185297668, 268.05889870273273, 144.26788724708427, 437.6805493243855, 150.44389696335492, 321.05624515104086, 266.77177794948966, 343.10198615239665, 256.9400015969035, 227.74288581544423, 115.72555492253737, 123.35857262962965, 124.5283647175577, 120.74708948708825, 247.02418848847415, 72.45764786986666, 66.71077159162917, 70.75494476509604, 77.77628360276796, 357.048597799991, 251.73466503236295, 95.21516044301941, 387.93665096757024, 27.621403969465238, 44.99920117676861, 91.70895686446778, 23.042989206885675, 23.04236257712246, 23.041577083475612, 23.04056388492889, 23.038826973134512, 22.91493785606102, 22.902945398001048, 145.67243394850763, 43.50964750982167, 21.559843049911905, 21.251723017298602, 23.07027496147665, 74.68774376521114, 19.00573014266532, 18.400539943122475, 18.32227653342817, 39.19844886012862, 17.760895697528312, 553.7417142521344, 485.254067773621, 263.2423411256612, 39.13665787001272, 39.09462954702067, 39.07554822944218, 660.4309704937607, 96.14613810418973, 71.09730702524915, 637.6218448099701, 70.87609789306254, 573.3437382168592, 69.93870213099346, 69.5721007725066, 69.4431032989972, 557.060882085023, 86.93047951776732, 312.027109785503, 103.27993138962215, 1023.8142126989603, 84.71019081950574, 84.6849561741679, 185.29338307231052, 98.69749207532391, 157.77327248020347, 131.75635313687607, 106.20746091596342, 128.58507698872356, 160.83020899584307, 155.5822359183814, 264.17504863800883, 144.5714154469144, 183.89487253191896, 103.9105998257911, 106.39438369175367, 97.55173044348277, 169.948827044864, 170.02265456493572, 173.0456195157459, 169.39014700086867, 215.20455285657283, 50.31638212528443, 49.49016798640465, 49.48773621151106, 49.48496444145925, 49.48388940914943, 70.28362425362099, 170.96610551046973, 331.1029831416761, 386.1633662804109, 75.84776482579092, 32.044546900756195, 31.27205847297422, 32.02674086861258, 294.0233831817832, 41.557915804509776, 41.50695214931641, 22.495212985360656, 62.150881783994514, 25.816297024074483, 78.63844508450178, 16.398699899319197, 19.83450478051639, 73.65982150748309, 16.26921840989517, 20.181056988221453, 80.10840929401392, 72.05139184124698, 46.46741674683677, 37.51175323429161, 399.4616972835886, 315.06505534279853, 189.22346989345408, 135.18048179009347, 107.32602550515492, 84.19860933234504, 216.11440580437596, 86.72700761185376, 418.3542891919058, 262.45103127091727, 258.03267438196565, 565.3677811381115, 104.72234258346779, 97.71808613862876, 111.55919836459334, 201.2957459755811, 168.5158737368615, 116.25528920317619, 155.90540798560815, 373.2395091825514, 100.59347376247456, 171.4929231510657, 113.45177331773003, 121.79073418399192, 134.48858840505645, 144.66209838411797, 131.5262526860806, 137.68515164560722, 119.88055719580655, 58.62505785723034, 58.48182008060559, 58.60661874118358, 58.596181832257244, 59.36933812209112, 58.09929496416889, 17.337898112157987, 16.728903899362674, 16.295653905490735, 16.026688589162983, 60.66646877996313, 60.003629867454016, 15.93657289044827, 15.446941087575428, 25.570008585447304, 20.778811114963837, 15.087802378177374, 14.688010783471304, 26.34185521340927, 14.150117652146939, 16.679866581828456, 39.70192078368763, 17.5794456283502, 12.45238767859059, 22.30180652081965, 13.936211501718175, 39.45718421199015, 11.43643839566319, 73.59767201211221, 39.368937810396574, 39.3935386836204, 40.37225130827019, 30.055222598697213, 29.718423143783834, 32.55927590475757, 62.36801379278291, 32.28995865286072, 42.33441326416376, 38.33101346860416, 37.80001769749065, 38.05370554845801, 37.99561887124941, 37.960191652199015, 64.76357574787295, 41.89649002748898, 38.469915514406274, 38.46531438954793, 37.61068790018459, 56.913629801297894, 41.679518864419464, 38.1637517623115, 66.68494779436398, 489.78141587575783, 39.86091777354195, 145.08361522089783, 277.1806002422307, 117.8048815600775, 43.393093150379876, 54.3689683230551, 40.441703773530136, 65.49493247708145, 60.594991242821955, 56.45539815145523, 165.97637989994752, 75.31612724055559, 64.7009312165727, 49.20682355094307, 56.941859649488364, 50.832638952614644, 59.06721585960546, 76.65944223007787, 75.3133232948739, 106.19779263591015, 64.9793295600395, 85.54417106078343, 79.29099717727564], \"Total\": [724.0, 580.0, 746.0, 655.0, 513.0, 1537.0, 393.0, 395.0, 434.0, 677.0, 362.0, 337.0, 514.0, 301.0, 1358.0, 348.0, 255.0, 249.0, 277.0, 218.0, 1172.0, 400.0, 390.0, 355.0, 245.0, 205.0, 174.0, 171.0, 171.0, 171.0, 165.51519085745986, 169.40165062494646, 110.37022752809784, 110.97069007105553, 108.44207567698312, 155.70386819844492, 186.42824507300105, 108.05357194039378, 205.7278364884898, 58.18092211388777, 153.8614343213992, 53.69132060820388, 78.66040992356918, 79.15501849800958, 112.49274862168065, 193.15183720323049, 163.43489224258533, 168.3058347465024, 44.40371800232381, 174.6846812235598, 39.20771585497291, 186.6954760134444, 36.78684873115103, 36.78682786517576, 192.09116057329845, 36.78669551124818, 63.7147653765786, 172.7373120718354, 62.85723844174745, 36.007772962952544, 165.83272001825287, 111.92700044677714, 64.49266155123777, 102.34803612618376, 52.08740330662505, 92.21994135040437, 72.47137217812028, 400.0030884684607, 229.9922582482312, 1358.7563296976898, 255.71640693715628, 355.5963202417852, 182.40071020887015, 761.1453567630033, 196.60548879379215, 615.5660868963109, 540.1886524548457, 1470.2979598487145, 1172.2761711791513, 1537.4140356101584, 146.71007314368276, 206.68557676759232, 377.7225006139164, 320.6158621246687, 249.4990243841733, 73.28543760727536, 67.5561872783823, 71.66589976056672, 78.83895696264668, 362.32074449224103, 255.52520400043818, 97.00669755462275, 395.5295496657383, 28.295687817855864, 46.10041344008856, 94.14787606250681, 23.71222526355896, 23.71227270221399, 23.712268043783094, 23.712328481889756, 23.712275399954464, 23.592328715639226, 23.592505353203325, 150.10161432041554, 44.86262751147324, 22.234958153966254, 21.926606951112614, 23.806681402957693, 77.09944593576684, 19.678286404532304, 19.06783266687359, 18.991381757483033, 40.6355429364323, 18.434035904951017, 580.0256660545248, 513.859318630771, 277.86946503651905, 40.63682546806869, 40.63735703917176, 40.638027835895706, 746.9562036375055, 102.84457353893777, 75.36880840261655, 724.3541101581792, 75.35486684547215, 655.5441475092618, 74.53072469932353, 74.42837644719218, 74.42225033387047, 677.9716859971204, 96.0686688558391, 390.9870401283519, 116.75831735951854, 1537.4140356101584, 94.12007618783367, 97.80479762882098, 293.25508717666014, 121.10867424531259, 270.564360637434, 208.77968256400578, 154.26400733691958, 225.67238536880055, 385.7294803776511, 361.10445159811263, 1470.2979598487145, 377.7225006139164, 1358.7563296976898, 206.3879127807508, 761.1453567630033, 275.8568488289556, 171.1206296468193, 171.25846361357998, 174.88154438324668, 171.62963276608534, 218.15066081307066, 51.012903230251574, 50.18766723670876, 50.1877331568108, 50.187844217605104, 50.187830140457606, 71.50053434845374, 174.01489878674204, 337.35660472604025, 393.9349458319803, 77.49946919174235, 32.74404247809141, 31.969500313372087, 32.84752544090701, 301.5703365138618, 42.731992831907924, 42.73340333376843, 23.16557934353796, 64.1220625811133, 26.6402269858035, 81.2127555762843, 17.066914387787513, 20.6548490860171, 76.72773144636722, 16.949307366745252, 21.064914811427457, 84.01994713338298, 75.74512176886805, 48.68700025164149, 39.22236327015156, 434.6894910914107, 348.9088683650634, 207.30636870637335, 146.74960904107053, 115.82607349104401, 90.28822752440523, 245.99614223236279, 93.51435553348811, 514.321605890325, 355.69668107892534, 354.6844310931125, 1172.2761711791513, 132.79784190011546, 121.40972941262403, 144.91248300711231, 323.5013006721717, 280.80055103021294, 158.15269910565823, 284.22536776185456, 1470.2979598487145, 132.35495910377006, 540.1886524548457, 212.47552337212858, 269.0561599171721, 385.7294803776511, 615.5660868963109, 761.1453567630033, 1358.7563296976898, 1537.4140356101584, 60.22589760415097, 60.223194579569785, 60.481783958374194, 60.47415336011769, 61.278229277552235, 60.21580020536525, 17.99991906923032, 17.397716477740204, 16.967837052026827, 16.687955622211096, 63.21669104477715, 62.53575519126354, 16.60967316258105, 16.118666357842336, 26.68606621544488, 21.69696429426289, 15.760499499981796, 15.348563822129044, 27.53593818861728, 14.816163642678697, 17.488248393298335, 41.64089839516917, 18.493503739610325, 13.116757738130227, 23.493597959581656, 14.69058959256771, 41.63379389326258, 12.092873063427893, 77.82314628866848, 41.632134315794026, 41.879548675314574, 42.9960738974947, 31.98967392601195, 31.63877106040022, 34.761298341234685, 68.55079356026057, 34.753851973696115, 46.42810306604595, 42.08600737216704, 41.59493074067068, 42.08060979138503, 42.079506030581165, 42.07872102177218, 75.89043901039021, 47.14064727084238, 42.921435100928804, 42.92136186074062, 42.07218778142286, 68.96649283523618, 47.607776667633395, 42.82929088472608, 87.91181470770519, 1470.2979598487145, 45.66604928614526, 320.6158621246687, 1172.2761711791513, 284.22536776185456, 54.5035181014566, 87.34271490829366, 47.62018680772927, 132.18420200090137, 113.59124104600903, 101.10909525493341, 1537.4140356101584, 228.13050518114034, 154.43629690158548, 75.05934722274667, 115.99239725051203, 86.39559885929725, 141.81263041452175, 361.10445159811263, 355.69668107892534, 1358.7563296976898, 222.85049479864972, 761.1453567630033, 615.5660868963109], \"Category\": [\"Default\", \"Default\", \"Default\", \"Default\", \"Default\", \"Default\", \"Default\", \"Default\", \"Default\", \"Default\", \"Default\", \"Default\", \"Default\", \"Default\", \"Default\", \"Default\", \"Default\", \"Default\", \"Default\", \"Default\", \"Default\", \"Default\", \"Default\", \"Default\", \"Default\", \"Default\", \"Default\", \"Default\", \"Default\", \"Default\", \"Topic1\", \"Topic1\", \"Topic1\", \"Topic1\", \"Topic1\", \"Topic1\", \"Topic1\", \"Topic1\", \"Topic1\", \"Topic1\", \"Topic1\", \"Topic1\", \"Topic1\", \"Topic1\", \"Topic1\", \"Topic1\", \"Topic1\", \"Topic1\", \"Topic1\", \"Topic1\", \"Topic1\", \"Topic1\", \"Topic1\", \"Topic1\", \"Topic1\", \"Topic1\", \"Topic1\", \"Topic1\", \"Topic1\", \"Topic1\", \"Topic1\", \"Topic1\", \"Topic1\", \"Topic1\", \"Topic1\", \"Topic1\", \"Topic1\", \"Topic1\", \"Topic1\", \"Topic1\", \"Topic1\", \"Topic1\", \"Topic1\", \"Topic1\", \"Topic1\", \"Topic1\", \"Topic1\", \"Topic1\", \"Topic1\", \"Topic1\", \"Topic1\", \"Topic1\", \"Topic1\", \"Topic1\", \"Topic2\", \"Topic2\", \"Topic2\", \"Topic2\", \"Topic2\", \"Topic2\", \"Topic2\", \"Topic2\", \"Topic2\", \"Topic2\", \"Topic2\", \"Topic2\", \"Topic2\", \"Topic2\", \"Topic2\", \"Topic2\", \"Topic2\", \"Topic2\", \"Topic2\", \"Topic2\", \"Topic2\", \"Topic2\", \"Topic2\", \"Topic2\", \"Topic2\", \"Topic2\", \"Topic2\", \"Topic2\", \"Topic2\", \"Topic2\", \"Topic2\", \"Topic2\", \"Topic2\", \"Topic2\", \"Topic2\", \"Topic2\", \"Topic2\", \"Topic2\", \"Topic2\", \"Topic2\", \"Topic2\", \"Topic2\", \"Topic2\", \"Topic2\", \"Topic2\", \"Topic2\", \"Topic2\", \"Topic2\", \"Topic2\", \"Topic2\", \"Topic2\", \"Topic2\", \"Topic2\", \"Topic2\", \"Topic2\", \"Topic2\", \"Topic2\", \"Topic2\", \"Topic2\", \"Topic2\", \"Topic2\", \"Topic2\", \"Topic2\", \"Topic2\", \"Topic2\", \"Topic2\", \"Topic3\", \"Topic3\", \"Topic3\", \"Topic3\", \"Topic3\", \"Topic3\", \"Topic3\", \"Topic3\", \"Topic3\", \"Topic3\", \"Topic3\", \"Topic3\", \"Topic3\", \"Topic3\", \"Topic3\", \"Topic3\", \"Topic3\", \"Topic3\", \"Topic3\", \"Topic3\", \"Topic3\", \"Topic3\", \"Topic3\", \"Topic3\", \"Topic3\", \"Topic3\", \"Topic3\", \"Topic3\", \"Topic3\", \"Topic3\", \"Topic3\", \"Topic3\", \"Topic3\", \"Topic3\", \"Topic3\", \"Topic3\", \"Topic3\", \"Topic3\", \"Topic3\", \"Topic3\", \"Topic3\", \"Topic3\", \"Topic3\", \"Topic3\", \"Topic3\", \"Topic3\", \"Topic3\", \"Topic3\", \"Topic3\", \"Topic3\", \"Topic3\", \"Topic3\", \"Topic3\", \"Topic3\", \"Topic3\", \"Topic3\", \"Topic3\", \"Topic3\", \"Topic3\", \"Topic3\", \"Topic3\", \"Topic3\", \"Topic3\", \"Topic4\", \"Topic4\", \"Topic4\", \"Topic4\", \"Topic4\", \"Topic4\", \"Topic4\", \"Topic4\", \"Topic4\", \"Topic4\", \"Topic4\", \"Topic4\", \"Topic4\", \"Topic4\", \"Topic4\", \"Topic4\", \"Topic4\", \"Topic4\", \"Topic4\", \"Topic4\", \"Topic4\", \"Topic4\", \"Topic4\", \"Topic4\", \"Topic4\", \"Topic4\", \"Topic4\", \"Topic4\", \"Topic4\", \"Topic4\", \"Topic4\", \"Topic4\", \"Topic4\", \"Topic4\", \"Topic4\", \"Topic4\", \"Topic4\", \"Topic4\", \"Topic4\", \"Topic4\", \"Topic4\", \"Topic4\", \"Topic4\", \"Topic4\", \"Topic4\", \"Topic4\", \"Topic4\", \"Topic4\", \"Topic4\", \"Topic4\", \"Topic4\", \"Topic4\", \"Topic4\", \"Topic4\", \"Topic4\", \"Topic4\", \"Topic4\", \"Topic4\", \"Topic4\", \"Topic4\", \"Topic4\", \"Topic4\", \"Topic4\", \"Topic4\", \"Topic4\", \"Topic4\", \"Topic4\", \"Topic4\", \"Topic4\", \"Topic4\", \"Topic4\", \"Topic4\", \"Topic4\", \"Topic4\", \"Topic4\", \"Topic4\"], \"logprob\": [30.0, 29.0, 28.0, 27.0, 26.0, 25.0, 24.0, 23.0, 22.0, 21.0, 20.0, 19.0, 18.0, 17.0, 16.0, 15.0, 14.0, 13.0, 12.0, 11.0, 10.0, 9.0, 8.0, 7.0, 6.0, 5.0, 4.0, 3.0, 2.0, 1.0, -5.313300132751465, -5.291500091552734, -5.721399784088135, -5.71619987487793, -5.7399001121521, -5.378399848937988, -5.198500156402588, -5.744100093841553, -5.100500106811523, -6.365799903869629, -5.394100189208984, -6.447299957275391, -6.065400123596191, -6.059800148010254, -5.708499908447266, -5.168000221252441, -5.335100173950195, -5.306099891662598, -6.639599800109863, -5.271399974822998, -6.765900135040283, -5.205900192260742, -6.830599784851074, -6.830699920654297, -5.1778998374938965, -6.8308000564575195, -6.282299995422363, -5.284999847412109, -6.296299934387207, -6.853499889373779, -5.327899932861328, -5.721399784088135, -6.2743000984191895, -5.82420015335083, -6.487400054931641, -5.934100151062012, -6.173500061035156, -4.57480001449585, -5.120699882507324, -3.580899953842163, -5.070700168609619, -4.825900077819824, -5.445499897003174, -4.335700035095215, -5.403600215911865, -4.645500183105469, -4.830699920654297, -4.579100131988525, -4.868299961090088, -4.988900184631348, -5.665900230407715, -5.6020002365112305, -5.592599868774414, -5.6234002113342285, -4.810200214385986, -6.0366997718811035, -6.1194000244140625, -6.060500144958496, -5.96589994430542, -4.44189977645874, -4.791399955749512, -5.763599872589111, -4.35890007019043, -7.001100063323975, -6.5131001472473145, -5.80109977722168, -7.182400226593018, -7.182400226593018, -7.182400226593018, -7.182499885559082, -7.182600021362305, -7.187900066375732, -7.188499927520752, -5.338399887084961, -6.5467000007629395, -7.248899936676025, -7.263299942016602, -7.18120002746582, -6.006400108337402, -7.375, -7.407400131225586, -7.411600112915039, -6.651100158691406, -7.442699909210205, -4.002999782562256, -4.1350998878479, -4.746699810028076, -6.652699947357178, -6.65369987487793, -6.654200077056885, -3.8268001079559326, -5.753900051116943, -6.055699825286865, -3.861999988555908, -6.058800220489502, -3.9681999683380127, -6.0721001625061035, -6.077400207519531, -6.07919979095459, -3.9971001148223877, -5.854599952697754, -4.576600074768066, -5.682300090789795, -3.388400077819824, -5.880499839782715, -5.880799770355225, -5.097799777984619, -5.727700233459473, -5.258600234985352, -5.438799858093262, -5.654300212860107, -5.463099956512451, -5.2393999099731445, -5.272600173950195, -4.743100166320801, -5.3460001945495605, -5.105400085449219, -5.676199913024902, -5.652599811553955, -5.739299774169922, -5.097799777984619, -5.097400188446045, -5.079800128936768, -5.101099967956543, -4.861700057983398, -6.315000057220459, -6.331500053405762, -6.331600189208984, -6.331600189208984, -6.331699848175049, -5.980800151824951, -5.091899871826172, -4.4309000968933105, -4.277100086212158, -5.904600143432617, -6.766200065612793, -6.790599822998047, -6.76669979095459, -4.549699783325195, -6.506199836730957, -6.507500171661377, -7.119999885559082, -6.103799819946289, -6.9822998046875, -5.868500232696533, -7.436100006103516, -7.2459001541137695, -5.933899879455566, -7.443999767303467, -7.228600025177002, -5.849899768829346, -5.955900192260742, -6.394599914550781, -6.608699798583984, -4.243199825286865, -4.480500221252441, -4.9903998374938965, -5.326700210571289, -5.557400226593018, -5.800099849700928, -4.857500076293945, -5.770599842071533, -4.197000026702881, -4.663300037384033, -4.680200099945068, -3.8958001136779785, -5.581999778747559, -5.651199817657471, -5.518799781799316, -4.928500175476074, -5.106299877166748, -5.477499961853027, -5.184100151062012, -4.311100006103516, -5.622200012207031, -5.088799953460693, -5.5019001960754395, -5.431000232696533, -5.3317999839782715, -5.258900165557861, -5.354100227355957, -5.308300018310547, -5.446800231933594, -6.046599864959717, -6.049099922180176, -6.046899795532227, -6.047100067138672, -6.033999919891357, -6.055600166320801, -7.264900207519531, -7.300600051879883, -7.326900005340576, -7.343500137329102, -6.012400150299072, -6.023399829864502, -7.3491997718811035, -7.38040018081665, -6.876399993896484, -7.083799839019775, -7.403900146484375, -7.430699825286865, -6.84660005569458, -7.468100070953369, -7.303599834442139, -6.436399936676025, -7.250999927520752, -7.595900058746338, -7.0131001472473145, -7.48330020904541, -6.442599773406982, -7.681000232696533, -5.819200038909912, -6.444799900054932, -6.444200038909912, -6.419600009918213, -6.714700222015381, -6.72599983215332, -6.634699821472168, -5.9847002029418945, -6.64300012588501, -6.372200012207031, -6.471499919891357, -6.485499858856201, -6.478799819946289, -6.480299949645996, -6.481200218200684, -5.947000026702881, -6.382599830627441, -6.467899799346924, -6.4679999351501465, -6.490499973297119, -6.076200008392334, -6.387800216674805, -6.475900173187256, -5.917799949645996, -3.923799991607666, -6.432400226593018, -5.140500068664551, -4.493100166320801, -5.348700046539307, -6.347499847412109, -6.122000217437744, -6.417900085449219, -5.935800075531006, -6.013599872589111, -6.0843000411987305, -5.005899906158447, -5.79610013961792, -5.947999954223633, -6.221700191497803, -6.075699806213379, -6.189199924468994, -6.039100170135498, -5.77839994430542, -5.79610013961792, -5.452499866485596, -5.943699836730957, -5.668700218200684, -5.74459981918335], \"loglift\": [30.0, 29.0, 28.0, 27.0, 26.0, 25.0, 24.0, 23.0, 22.0, 21.0, 20.0, 19.0, 18.0, 17.0, 16.0, 15.0, 14.0, 13.0, 12.0, 11.0, 10.0, 9.0, 8.0, 7.0, 6.0, 5.0, 4.0, 3.0, 2.0, 1.0, 1.2419, 1.2406, 1.2391, 1.2389, 1.2382, 1.238, 1.2378, 1.2376, 1.2373, 1.235, 1.2342, 1.2338, 1.2338, 1.2332, 1.233, 1.2329, 1.2328, 1.2324, 1.2314, 1.23, 1.2296, 1.2289, 1.2286, 1.2285, 1.2285, 1.2284, 1.2276, 1.2275, 1.2271, 1.2271, 1.2255, 1.2251, 1.2235, 1.2117, 1.224, 1.2061, 1.2077, 1.098, 1.1055, 0.8691, 1.0496, 0.9646, 1.0127, 0.6939, 0.9796, 0.5963, 0.5417, -0.208, -0.2707, -0.6624, 1.01, 0.7311, 0.1376, 0.2706, 1.3346, 1.3332, 1.332, 1.3318, 1.331, 1.3299, 1.3297, 1.326, 1.3252, 1.3205, 1.3204, 1.3184, 1.316, 1.3159, 1.3159, 1.3159, 1.3158, 1.3155, 1.3149, 1.3146, 1.314, 1.3138, 1.3133, 1.3132, 1.3128, 1.3098, 1.309, 1.3087, 1.3086, 1.3074, 1.2982, 1.2873, 1.2905, 1.307, 1.3059, 1.3054, 1.2215, 1.2773, 1.2863, 1.2171, 1.2833, 1.2106, 1.281, 1.2771, 1.2754, 1.1482, 1.2446, 1.119, 1.2219, 0.938, 1.2393, 1.2006, 0.8855, 1.14, 0.8052, 0.8843, 0.9713, 0.7821, 0.4698, 0.5026, -0.372, 0.3842, -0.6554, 0.6584, -0.6231, 0.3051, 1.4241, 1.4238, 1.4205, 1.4179, 1.4174, 1.4173, 1.417, 1.417, 1.4169, 1.4169, 1.4138, 1.4133, 1.4123, 1.4111, 1.4095, 1.4094, 1.409, 1.4057, 1.4057, 1.4032, 1.4019, 1.4016, 1.3998, 1.3996, 1.3988, 1.3911, 1.3905, 1.3902, 1.3901, 1.3882, 1.3833, 1.381, 1.3844, 1.3864, 1.3465, 1.329, 1.3397, 1.3489, 1.3548, 1.3612, 1.3015, 1.3557, 1.2245, 1.127, 1.1129, 0.7018, 1.1935, 1.2139, 1.1694, 0.9566, 0.9204, 1.1232, 0.8305, 0.06, 1.1566, 0.2836, 0.8036, 0.6384, 0.3774, -0.0171, -0.3246, -0.8583, -1.1203, 1.5196, 1.5172, 1.5151, 1.515, 1.5149, 1.5108, 1.5091, 1.5074, 1.5061, 1.5061, 1.5054, 1.5052, 1.5052, 1.504, 1.5038, 1.5033, 1.5029, 1.5026, 1.5022, 1.5006, 1.4992, 1.4989, 1.4959, 1.4946, 1.4945, 1.4938, 1.4929, 1.4907, 1.4907, 1.4907, 1.4854, 1.4836, 1.4842, 1.4839, 1.4811, 1.452, 1.473, 1.4543, 1.4531, 1.4509, 1.446, 1.4445, 1.4436, 1.388, 1.4286, 1.4371, 1.4369, 1.4345, 1.3545, 1.4136, 1.4312, 1.2702, 0.4473, 1.4106, 0.7536, 0.1045, 0.6658, 1.3186, 1.0725, 1.3832, 0.8443, 0.9182, 0.9638, -0.6795, 0.4383, 0.6766, 1.1243, 0.8351, 1.0162, 0.6707, -0.0032, -0.0059, -1.0025, 0.3141, -0.6392, -0.5029]}, \"token.table\": {\"Topic\": [3, 4, 1, 3, 1, 4, 1, 2, 3, 4, 1, 2, 3, 4, 1, 2, 3, 4, 1, 3, 4, 1, 4, 1, 2, 3, 4, 1, 2, 3, 4, 1, 1, 2, 3, 4, 2, 4, 1, 2, 3, 4, 2, 4, 2, 4, 4, 1, 2, 3, 4, 1, 2, 3, 4, 1, 2, 3, 4, 2, 4, 1, 4, 1, 2, 3, 4, 1, 2, 3, 4, 3, 4, 1, 2, 3, 4, 1, 3, 4, 2, 1, 3, 4, 1, 2, 3, 1, 2, 3, 4, 1, 1, 2, 4, 1, 1, 3, 3, 2, 3, 4, 3, 4, 1, 2, 3, 4, 1, 2, 1, 2, 3, 4, 2, 4, 1, 2, 4, 1, 2, 3, 4, 3, 3, 2, 3, 4, 2, 1, 3, 4, 1, 3, 4, 1, 4, 2, 4, 2, 1, 2, 3, 4, 4, 1, 2, 3, 1, 2, 1, 3, 2, 4, 1, 2, 3, 4, 1, 2, 3, 4, 1, 2, 3, 4, 2, 4, 1, 2, 3, 4, 2, 2, 1, 2, 2, 3, 4, 1, 2, 4, 4, 2, 4, 2, 3, 4, 1, 2, 3, 4, 3, 1, 1, 2, 3, 4, 3, 1, 2, 3, 4, 1, 2, 3, 4, 1, 2, 3, 4, 1, 2, 3, 4, 2, 4, 1, 2, 3, 4, 1, 2, 3, 4, 4, 1, 2, 4, 1, 3, 1, 2, 3, 1, 2, 3, 4, 1, 2, 3, 1, 2, 3, 1, 2, 4, 1, 3, 4, 2, 1, 2, 3, 2, 4, 3, 1, 3, 4, 2, 4, 3, 2, 3, 4, 2, 3, 4, 1, 3, 2, 1, 2, 3, 4, 1, 2, 3, 4, 1, 2, 3, 1, 2, 3, 4, 4, 1, 2, 3, 4, 1, 2, 3, 4, 1, 2, 3, 4, 1, 2, 3, 4, 1, 2, 3, 4, 4, 2, 1, 2, 3, 4, 2, 3, 4, 1, 2, 3, 4, 1, 2, 3, 4, 3, 4, 4, 2, 4, 1, 2, 3, 2, 1, 2, 3, 4, 1, 4, 4, 1, 2, 3, 4, 2, 4, 2, 4, 3, 1, 2, 3, 4, 1, 2, 3, 4, 1, 2, 3, 4, 4, 1, 2, 3, 4, 2, 1, 2, 3, 4, 1, 2, 3, 4, 1, 3, 4, 1, 2, 3, 4, 3, 2, 3, 4, 1, 2, 3, 4, 2, 3, 4, 1, 2, 3, 4, 2, 1, 2, 3, 4, 1, 2, 3, 4, 2, 1, 2, 3, 4, 3, 4, 2, 3, 4, 1, 4, 1, 2, 3, 1, 2, 3, 4, 1, 2, 4, 1, 2, 3, 4, 1, 3, 4, 1, 2, 4, 1, 2, 3, 4, 1, 2, 3, 4, 2, 3, 4, 1, 2, 3, 4, 1, 2, 3, 4, 1, 1, 2, 3, 4, 2, 2, 3, 4, 1, 3, 2, 3, 4, 1, 2, 3, 4, 1, 1, 2, 3, 4, 1, 2, 3, 4, 3, 2, 2, 4, 3, 4, 2, 2, 4, 2, 1, 4, 4, 2, 3, 4, 1, 2, 3, 4, 3, 1, 2, 3, 4, 1, 2, 3, 4, 2, 3, 4, 1, 2, 3, 1, 2, 3, 4, 1, 2, 3, 4, 1, 2, 3, 4, 3, 4, 1, 1, 3, 4, 1, 2, 3, 4, 1, 2, 3, 4, 2, 4, 2, 4, 1, 2, 3, 2, 4, 3, 1, 2, 3, 4, 2, 4, 4, 1, 2, 3, 4, 1, 3, 4, 1, 2, 3, 4, 1, 2, 3, 4, 1, 4, 1, 4, 2, 3, 4, 3, 2, 4, 1, 2, 3, 1, 2, 3, 4, 1, 2, 3, 4, 2, 3, 4, 2, 4, 1, 2, 3, 4, 1, 2, 3, 4, 1, 2, 3, 4], \"Freq\": [0.9934512299941146, 0.0058438307646712625, 0.9738490227103962, 0.017868789407530207, 0.03126008731170167, 0.9378026193510502, 0.23336616636293112, 0.6871337120686305, 0.05834154159073278, 0.01944718053024426, 0.9786105970396771, 0.9655312261144811, 0.05753525027652814, 0.9493316295627142, 0.7906750880452061, 0.06816164552113846, 0.013632329104227693, 0.12950712649016308, 0.0408859692315827, 0.9199343077106108, 0.03407164102631892, 0.9851017600392746, 0.012237288944587262, 0.010113024433649514, 0.9809633700640028, 0.005056512216824757, 0.0025282561084123785, 0.038893641758216524, 0.9334474021971966, 0.019446820879108262, 0.009723410439554131, 0.9912527346596296, 0.00507698040288366, 0.00253849020144183, 0.9798572177565463, 0.012692451007209149, 0.01653390383934834, 0.9755003265215522, 0.5951068377563056, 0.22739854776053953, 0.1596628101297405, 0.019353067894514003, 0.1060655779983874, 0.8909508551864541, 0.016319009406597283, 0.9628215549892397, 0.9429604934878122, 0.8212222380068427, 0.03128465668597496, 0.04692698502896244, 0.10167513422941862, 0.042774792557890955, 0.06221788008420503, 0.8127210585999282, 0.0816609676105191, 0.12236703591718529, 0.10824776254212545, 0.5318259637939207, 0.2400276473760173, 0.9748858654757971, 0.9529910227076867, 0.98540814568771, 0.012633437765227051, 0.4162699714233592, 0.037166961734228496, 0.4534369331575877, 0.09291740433557125, 0.04327648751615765, 0.1947441938227094, 0.6213267136248348, 0.13910299558764957, 0.057547577791196354, 0.9207612446591417, 0.03069000468721042, 0.6308500963482142, 0.32395004947611, 0.01364000208320463, 0.990908013551868, 0.9806518779111572, 0.012903314183041541, 0.9661153358881228, 0.013033097436211852, 0.964449210279677, 0.026066194872423704, 0.010621588524589535, 0.9771861442622372, 0.010621588524589535, 0.021387090662072592, 0.021387090662072592, 0.9303384438001577, 0.021387090662072592, 0.9875851707585815, 0.04379621253128164, 0.08759242506256328, 0.8759242506256328, 0.9786146730410282, 0.9797025885637195, 0.9682956247566863, 0.9763320334610343, 0.9420342646353305, 0.039804264702901285, 0.026536176468600858, 0.9828377036099794, 0.02340089770499951, 0.9968873500082326, 0.9405015041496416, 0.04030720732069892, 0.026871471547132618, 0.9867302680397575, 0.00888946187423205, 0.8624933405413004, 0.022499826274990448, 0.03249974906387509, 0.0824993630082983, 0.09339402818426053, 0.887243267750475, 0.0583508927067889, 0.02917544635339445, 0.9044388369552279, 0.2332860477037544, 0.17955544196440573, 0.2536900751997096, 0.33326578243393484, 0.9439913769805246, 0.980144175961134, 0.005826499677727003, 0.9846784455358634, 0.005826499677727003, 0.9748931645206107, 0.06441379553413655, 0.9178965863614459, 0.013802956185886405, 0.012313336653879276, 0.9727535956564628, 0.012313336653879276, 0.03747273921628951, 0.9742912196235274, 0.016535990079019337, 0.9756234146621409, 0.9824598494701798, 0.04249890312474115, 0.9031016914007495, 0.010624725781185288, 0.04249890312474115, 0.9517464849396001, 0.9783641876383883, 0.011578274409921756, 0.005789137204960878, 0.979123487876257, 0.01919849976227955, 0.9730868446828035, 0.015694949107787154, 0.9597080824524721, 0.024607899550063386, 0.6851854005398735, 0.13541795241604374, 0.10156346431203281, 0.07801251606576433, 0.03391671491651845, 0.5039054787597027, 0.37308386408170296, 0.09205965477340722, 0.03882423073638942, 0.8835859408971387, 0.02945286469657129, 0.048195596776207564, 0.016604152694788175, 0.9796450089925023, 0.01929511391743859, 0.05306156327295612, 0.9116941325989734, 0.009647556958719295, 0.9477983345212675, 0.9894329392329285, 0.02169177943055946, 0.9761300743751758, 0.005746634379999356, 0.9826744789798899, 0.011493268759998712, 0.015818607134810137, 0.015818607134810137, 0.9649350352234184, 0.9449139694753574, 0.9597509269412041, 0.02460899812669754, 0.024019907132664803, 0.024019907132664803, 0.9367763781739272, 0.32051219155305855, 0.04273495887374114, 0.6018506708051877, 0.03561246572811762, 0.9763354763809371, 0.9947021689368174, 0.3773986701660762, 0.02807097546689823, 0.14347387460859096, 0.4522546047444715, 0.9772770121896452, 0.24393456641705438, 0.5839645680893121, 0.08500750041806442, 0.08870347869711069, 0.183261497550582, 0.042291114819365073, 0.7274071748930793, 0.04792993012861375, 0.8695944877594076, 0.034783779510376305, 0.0565236417043615, 0.03913175194917334, 0.09159321425261029, 0.12594066959733916, 0.160288124942068, 0.6182541962051195, 0.03321387398621333, 0.9632023456001865, 0.12857399195613603, 0.0395612282941957, 0.267038290985821, 0.5538571961187398, 0.02068873965806877, 0.9551301475475082, 0.012068431467206783, 0.01379249310537918, 0.9678773359807215, 0.11599835907434546, 0.043499384652879544, 0.8264883084047114, 0.9839078458161591, 0.015617584854224749, 0.9879018785337015, 0.0064993544640375095, 0.0064993544640375095, 0.017699854209031037, 0.8215682328691907, 0.1091491009556914, 0.051624574776340526, 0.012970261820469123, 0.9727696365351843, 0.025940523640938247, 0.9862997337556634, 0.005941564661178695, 0.005941564661178695, 0.9658986424039808, 0.027597104068685166, 0.013798552034342583, 0.025495659022693455, 0.9688350428623512, 0.025495659022693455, 0.9699618543039324, 0.9871241645693801, 0.9899838310376502, 0.008016063409211743, 0.09505565674618388, 0.9030287390887469, 0.9759676602551218, 0.16512695535078636, 0.03669487896684141, 0.7889398977870904, 0.9893585989088597, 0.012684084601395636, 0.9763341939931867, 0.02401485170925159, 0.02401485170925159, 0.9605940683700636, 0.9271420803651413, 0.04031052523326702, 0.01343684174442234, 0.9863621364380828, 0.015909066716743272, 0.9764546457873371, 0.1841051461603135, 0.34629301301582777, 0.14027058755071506, 0.3287591895719884, 0.013202170339780342, 0.013202170339780342, 0.9505562644641846, 0.013202170339780342, 0.006900716758479116, 0.2208229362713317, 0.772880276949661, 0.07962524745136984, 0.03412510605058707, 0.1251253888521526, 0.7621273684631112, 0.963294090340408, 0.0925973094188362, 0.03472399103206358, 0.28936659193386316, 0.5903078475450808, 0.7536635919566752, 0.04218266372891839, 0.10405057053133203, 0.10123839294940414, 0.00296422238661098, 0.00296422238661098, 0.9811576099682343, 0.0148211119330549, 0.4666805882300879, 0.1480813404960856, 0.0897462669673246, 0.291675367643805, 0.7629491980120968, 0.0406906238939785, 0.0864675757747043, 0.10681288772169355, 0.9305980821857471, 0.9917670416169228, 0.9836820749475234, 0.005177274078671175, 0.005177274078671175, 0.005177274078671175, 0.06461603644956962, 0.021538678816523205, 0.9046245102939746, 0.08257046873244128, 0.8174476404511687, 0.033028187492976514, 0.07431342185919716, 0.9672877345486531, 0.009770583177259123, 0.009770583177259123, 0.009770583177259123, 0.9828701452144458, 0.02340167012415347, 0.9720813438648643, 0.09505815009075941, 0.9030524258622143, 0.010308566575384322, 0.9793138246615105, 0.010308566575384322, 0.9439982149240943, 0.06589257746231474, 0.041182860913946705, 0.8071840739133554, 0.09060229401068276, 0.03631617681410169, 0.9442205971666437, 0.909626681955917, 0.26478201986468347, 0.18913001418905964, 0.052956403972936696, 0.49173803689155504, 0.09507468498622303, 0.9032095073691188, 0.09319368786521955, 0.8853400347195857, 0.976332307311687, 0.14655070163821596, 0.15987349269623558, 0.039968373174058894, 0.652816761842962, 0.05112223654892168, 0.8690780213316686, 0.05112223654892168, 0.030673341929353008, 0.028146678331340935, 0.01055500437425285, 0.5488602274611483, 0.4151635053872788, 0.9772901343625064, 0.013324307063951258, 0.9726744156684418, 0.006662153531975629, 0.006662153531975629, 0.9699620448593134, 0.008279956490496348, 0.9853148223690654, 0.0055199709936642315, 0.0027599854968321158, 0.3309307753624319, 0.383879699420421, 0.2859241899131411, 0.002647446202899455, 0.9768880350160631, 0.006030173055654711, 0.018090519166964133, 0.012424862196246316, 0.8807846756894611, 0.10630159879010737, 0.0013805402440273684, 0.9374863924699265, 0.015595256293183292, 0.9669058901773641, 0.015595256293183292, 0.5214712227219738, 0.11534098695719669, 0.2355555367435707, 0.12833715450166955, 0.9862040849777303, 0.007827016547442304, 0.003913508273721152, 0.012849647536617341, 0.025699295073234683, 0.012849647536617341, 0.9508739177096833, 0.9699595726149882, 0.7894706102575103, 0.09868382628218879, 0.09868382628218879, 0.010964869586909865, 0.5754485606569619, 0.13926380691698165, 0.17342285389661866, 0.11298761693264549, 0.9577405225907242, 0.0443085094331848, 0.43200796697355187, 0.3129288478718677, 0.21323470164720187, 0.9926516705392178, 0.0058391274737601044, 0.02387800326485941, 0.04775600652971882, 0.931242127329517, 0.9917258738638285, 0.005903130201570408, 0.9768553271746756, 0.01550564011388374, 0.01550564011388374, 0.2327738769092542, 0.22415262220891144, 0.060348782902399235, 0.49141151791953663, 0.9923389019059757, 0.0053639940643566255, 0.0053639940643566255, 0.9650841097570244, 0.010843641682663194, 0.02168728336532639, 0.010843641682663194, 0.9802058620146838, 0.01071263237174518, 0.00535631618587259, 0.02229026821365419, 0.9807718014007843, 0.9587753204895002, 0.01896900917255777, 0.21498210395565473, 0.7334683546722338, 0.03161501528759628, 0.014369214298811318, 0.632245429147698, 0.09100502389247168, 0.2634355954782075, 0.23421865119307783, 0.7630994764677697, 0.9444486908310818, 0.03113692682003624, 0.9438380942323484, 0.02335269511502718, 0.001946057926252265, 0.0033159760059956515, 0.0033159760059956515, 0.9748969457627216, 0.01989585603597391, 0.9902495408391037, 0.011901935601226746, 0.023803871202453492, 0.9521548480981397, 0.011901935601226746, 0.9895500749174483, 0.9392099739053704, 0.04025185602451588, 0.013417285341505292, 0.9890569950627474, 0.00642244801988797, 0.023257937512714807, 0.046515875025429615, 0.9303175005085923, 0.01719646745614445, 0.06591979191522038, 0.9028145414475834, 0.01433038954678704, 0.9720123495560413, 0.020818441889740403, 0.9056022222037075, 0.062455325669221205, 0.010409220944870201, 0.02590090391203642, 0.008633634637345474, 0.9237989061959657, 0.04316817318672737, 0.969674211236684, 0.9699637948086842, 0.09505992346892715, 0.903069272954808, 0.9790136624554304, 0.013985909463649006, 0.9699617439515807, 0.09319352884157038, 0.8853385239949186, 0.9907082760030717, 0.9916042908470618, 0.01271287552368028, 0.9148602299115559, 0.022151282119913063, 0.9303538490363487, 0.04430256423982613, 0.016779953023445437, 0.8740830074940215, 0.10373061869038998, 0.004576350824576028, 0.9741981951598845, 0.21923161650679357, 0.06227201558364175, 0.48196833979119985, 0.2362924426940927, 0.022491072943761556, 0.02811384117970194, 0.7365826389081909, 0.21085380884776458, 0.0045839879479296275, 0.98555740880487, 0.0045839879479296275, 0.020539363584354015, 0.020539363584354015, 0.9448107248802846, 0.13043910607179687, 0.7979804136156986, 0.04092207249311275, 0.03069155436983456, 0.9846312727323584, 0.005724600422862549, 0.005724600422862549, 0.005724600422862549, 0.22889088771790908, 0.08803495681458041, 0.1496594265847867, 0.5370132365689406, 0.9892410351825157, 0.005718156272731304, 0.9786111521205499, 0.021004971666317273, 0.10502485833158637, 0.8822088099853255, 0.5570730884060262, 0.00705155808108894, 0.01410311616217788, 0.41604192678424745, 0.034258801346745395, 0.8821641346786939, 0.025694101010059044, 0.05995290235680444, 0.9597206364125351, 0.02460822144647526, 0.9596922409101548, 0.02460749335667064, 0.03958693337734797, 0.9464875889311378, 0.010796436375640355, 0.0712825993083869, 0.9029129245729007, 0.9494460423428936, 0.38063220270128223, 0.3552567225211967, 0.13412753809473754, 0.13050246949758249, 0.0166048979464009, 0.9630840808912521, 0.9771397310532639, 0.0040651043993015995, 0.0975625055832384, 0.8780625502491455, 0.020325521996507997, 0.9916013480820984, 0.004860790921971071, 0.004860790921971071, 0.14830097470101014, 0.6660535004115543, 0.07805314457947903, 0.10797351666827931, 0.017724809322430302, 0.5716251006483772, 0.41210181674650453, 0.9733147516793524, 0.03160679022870209, 0.9482037068610626, 0.04256478729739047, 0.9364253205425904, 0.9422085523101974, 0.03981162897085341, 0.01327054299028447, 0.9496848610495425, 0.07212417346488477, 0.9135728638885404, 0.9867018805387068, 0.21084679991306135, 0.7906754996739801, 0.17888184209421867, 0.41739096488651023, 0.3473937223279029, 0.05444229976780568, 0.026353780872530975, 0.026353780872530975, 0.1054151234901239, 0.8564978783572567, 0.024018949667755977, 0.024018949667755977, 0.9367390370424831, 0.031981703809013995, 0.95945111427042, 0.4942717674402064, 0.17031087117789884, 0.31655607577631195, 0.018512051214989004, 0.12302807294134842, 0.22015549894767614, 0.23958098414894166, 0.4208855126940867, 0.020999497629809575, 0.06299849288942873, 0.0839979905192383, 0.8399799051923831], \"Term\": [\"ableist\", \"ableist\", \"actions\", \"actions\", \"activities\", \"activities\", \"adhd\", \"adhd\", \"adhd\", \"adhd\", \"adhdelaide\", \"afloat\", \"aires\", \"aires\", \"anything\", \"anything\", \"anything\", \"anything\", \"army\", \"army\", \"army\", \"aside\", \"aside\", \"asks\", \"asks\", \"asks\", \"asks\", \"atrupar\", \"atrupar\", \"atrupar\", \"atrupar\", \"attempted\", \"austin\", \"austin\", \"austin\", \"austin\", \"avoids\", \"avoids\", \"back\", \"back\", \"back\", \"back\", \"banned\", \"banned\", \"banning\", \"banning\", \"bare\", \"best\", \"best\", \"best\", \"best\", \"biden\", \"biden\", \"biden\", \"biden\", \"black\", \"black\", \"black\", \"black\", \"blindness\", \"blocked\", \"blowing\", \"blowing\", \"breakdancing\", \"breakdancing\", \"breakdancing\", \"breakdancing\", \"breaking\", \"breaking\", \"breaking\", \"breaking\", \"buenos\", \"buenos\", \"called\", \"called\", \"called\", \"called\", \"capitalist\", \"career\", \"career\", \"chair\", \"charge\", \"charge\", \"charge\", \"checks\", \"checks\", \"checks\", \"chief\", \"chief\", \"chief\", \"chief\", \"chilling\", \"christian\", \"christian\", \"christian\", \"chronically\", \"civil\", \"cnnbrk\", \"commentate\", \"complaint\", \"complaint\", \"complaint\", \"concisely\", \"concisely\", \"contain\", \"contra\", \"contra\", \"contra\", \"coup\", \"coup\", \"covid\", \"covid\", \"covid\", \"covid\", \"creator\", \"creator\", \"crunch\", \"crunch\", \"crunch\", \"culture\", \"culture\", \"culture\", \"culture\", \"cwebbonline\", \"dabegean\", \"dangelno\", \"dangelno\", \"dangelno\", \"darkens\", \"defense\", \"defense\", \"defense\", \"department\", \"department\", \"department\", \"desselle\", \"desselle\", \"developer\", \"developer\", \"dictator\", \"directly\", \"directly\", \"directly\", \"directly\", \"disappointing\", \"disaster\", \"disaster\", \"disaster\", \"domestic\", \"domestic\", \"doomed\", \"doomed\", \"drawstom\", \"drawstom\", \"economy\", \"economy\", \"economy\", \"economy\", \"elect\", \"elect\", \"elect\", \"elect\", \"election\", \"election\", \"election\", \"election\", \"emails\", \"emails\", \"everyone\", \"everyone\", \"everyone\", \"everyone\", \"exploring\", \"expose\", \"famil\", \"famil\", \"fandom\", \"fandom\", \"fandom\", \"fantastic\", \"fantastic\", \"fantastic\", \"felt\", \"fett\", \"fett\", \"financed\", \"financed\", \"financed\", \"first\", \"first\", \"first\", \"first\", \"flowrestling\", \"forgetting\", \"games\", \"games\", \"games\", \"games\", \"generalise\", \"georgia\", \"georgia\", \"georgia\", \"georgia\", \"going\", \"going\", \"going\", \"going\", \"good\", \"good\", \"good\", \"good\", \"group\", \"group\", \"group\", \"group\", \"hades\", \"hades\", \"health\", \"health\", \"health\", \"health\", \"help\", \"help\", \"help\", \"help\", \"hiding\", \"high\", \"high\", \"high\", \"home\", \"home\", \"horrible\", \"horrible\", \"horrible\", \"house\", \"house\", \"house\", \"house\", \"http\", \"http\", \"http\", \"human\", \"human\", \"human\", \"idea\", \"idea\", \"idea\", \"ignorant\", \"ignorant\", \"ignorant\", \"impeach\", \"interes\", \"intervening\", \"intervening\", \"inuk\", \"inuk\", \"iran\", \"jawshalt\", \"jawshalt\", \"jawshalt\", \"joenbc\", \"joenbc\", \"joerogan\", \"johnjharwood\", \"johnjharwood\", \"johnjharwood\", \"kannoyoungs\", \"kannoyoungs\", \"kannoyoungs\", \"karlousm\", \"karlousm\", \"kept\", \"know\", \"know\", \"know\", \"know\", \"knows\", \"knows\", \"knows\", \"knows\", \"kylegriffin\", \"kylegriffin\", \"kylegriffin\", \"leave\", \"leave\", \"leave\", \"leave\", \"lenikacruz\", \"life\", \"life\", \"life\", \"life\", \"like\", \"like\", \"like\", \"like\", \"lloyd\", \"lloyd\", \"lloyd\", \"lloyd\", \"make\", \"make\", \"make\", \"make\", \"many\", \"many\", \"many\", \"many\", \"masking\", \"mateagold\", \"mean\", \"mean\", \"mean\", \"mean\", \"mexico\", \"mexico\", \"mexico\", \"michigan\", \"michigan\", \"michigan\", \"michigan\", \"mind\", \"mind\", \"mind\", \"mind\", \"misinterprets\", \"misinterprets\", \"missed\", \"missionaries\", \"missionaries\", \"mitch\", \"mitch\", \"mitch\", \"mviser\", \"name\", \"name\", \"name\", \"name\", \"natalie\", \"natalie\", \"nbra\", \"never\", \"never\", \"never\", \"never\", \"novalinga\", \"novalinga\", \"nowthisnews\", \"nowthisnews\", \"odds\", \"office\", \"office\", \"office\", \"office\", \"often\", \"often\", \"often\", \"often\", \"olympic\", \"olympic\", \"olympic\", \"olympic\", \"onyxaminedlife\", \"overturn\", \"overturn\", \"overturn\", \"overturn\", \"overturnin\", \"overturning\", \"overturning\", \"overturning\", \"overturning\", \"past\", \"past\", \"past\", \"past\", \"pelosi\", \"pelosi\", \"pelosi\", \"pennsylvania\", \"pennsylvania\", \"pennsylvania\", \"pennsylvania\", \"pentago\", \"pentagon\", \"pentagon\", \"pentagon\", \"people\", \"people\", \"people\", \"people\", \"personally\", \"personally\", \"personally\", \"piece\", \"piece\", \"piece\", \"piece\", \"plain\", \"point\", \"point\", \"point\", \"point\", \"politics\", \"politics\", \"politics\", \"politics\", \"poll\", \"president\", \"president\", \"president\", \"president\", \"profile\", \"profile\", \"promises\", \"promises\", \"promises\", \"providing\", \"providing\", \"pussy\", \"pussy\", \"pussy\", \"race\", \"race\", \"race\", \"race\", \"rbreich\", \"rbreich\", \"rbreich\", \"reading\", \"reading\", \"reading\", \"reading\", \"relief\", \"relief\", \"relief\", \"repjayapal\", \"repjayapal\", \"replacing\", \"representatives\", \"representatives\", \"representatives\", \"representatives\", \"republicans\", \"republicans\", \"republicans\", \"republicans\", \"reques\", \"reques\", \"respond\", \"results\", \"results\", \"results\", \"results\", \"retired\", \"retired\", \"retired\", \"retired\", \"ronbrownstein\", \"rwpusa\", \"rwpusa\", \"rwpusa\", \"rwpusa\", \"scoo\", \"scoop\", \"scoop\", \"scoop\", \"scottadamssays\", \"scottadamssays\", \"scrutiny\", \"scrutiny\", \"scrutiny\", \"secretary\", \"secretary\", \"secretary\", \"secretary\", \"secure\", \"security\", \"security\", \"security\", \"security\", \"selected\", \"selected\", \"selected\", \"selected\", \"selects\", \"sethn\", \"shina\", \"shina\", \"shocker\", \"shocker\", \"sight\", \"singing\", \"singing\", \"siskind\", \"skeletonpup\", \"skeletonpup\", \"sorely\", \"source\", \"source\", \"source\", \"speaker\", \"speaker\", \"speaker\", \"speaker\", \"spifeyy\", \"sport\", \"sport\", \"sport\", \"sport\", \"stan\", \"stan\", \"stan\", \"stan\", \"stans\", \"stans\", \"stans\", \"star\", \"star\", \"star\", \"state\", \"state\", \"state\", \"state\", \"stay\", \"stay\", \"stay\", \"stay\", \"still\", \"still\", \"still\", \"still\", \"strange\", \"strange\", \"strangers\", \"success\", \"success\", \"success\", \"supergiant\", \"supergiant\", \"supergiant\", \"supergiant\", \"talking\", \"talking\", \"talking\", \"talking\", \"temuera\", \"temuera\", \"thema\", \"thema\", \"third\", \"third\", \"third\", \"throat\", \"throat\", \"throwback\", \"time\", \"time\", \"time\", \"time\", \"toadsanime\", \"toadsanime\", \"tommy\", \"toxic\", \"toxic\", \"toxic\", \"toxic\", \"track\", \"track\", \"track\", \"trump\", \"trump\", \"trump\", \"trump\", \"twice\", \"twice\", \"twice\", \"uncomfortable\", \"unfollow\", \"unfollow\", \"universal\", \"universal\", \"unsealed\", \"unsealed\", \"unsealed\", \"usatoday\", \"usin\", \"usin\", \"viewed\", \"wapo\", \"wapo\", \"week\", \"week\", \"week\", \"week\", \"weekend\", \"weekend\", \"weekend\", \"weekend\", \"withstood\", \"withstood\", \"withstood\", \"workplace\", \"workplace\", \"would\", \"would\", \"would\", \"would\", \"year\", \"year\", \"year\", \"year\", \"youth\", \"youth\", \"youth\", \"youth\"]}, \"R\": 30, \"lambda.step\": 0.01, \"plot.opts\": {\"xlab\": \"PC1\", \"ylab\": \"PC2\"}, \"topic.order\": [2, 4, 1, 3]};\n",
              "\n",
              "function LDAvis_load_lib(url, callback){\n",
              "  var s = document.createElement('script');\n",
              "  s.src = url;\n",
              "  s.async = true;\n",
              "  s.onreadystatechange = s.onload = callback;\n",
              "  s.onerror = function(){console.warn(\"failed to load library \" + url);};\n",
              "  document.getElementsByTagName(\"head\")[0].appendChild(s);\n",
              "}\n",
              "\n",
              "if(typeof(LDAvis) !== \"undefined\"){\n",
              "   // already loaded: just create the visualization\n",
              "   !function(LDAvis){\n",
              "       new LDAvis(\"#\" + \"ldavis_el621401244311521367284931365\", ldavis_el621401244311521367284931365_data);\n",
              "   }(LDAvis);\n",
              "}else if(typeof define === \"function\" && define.amd){\n",
              "   // require.js is available: use it to load d3/LDAvis\n",
              "   require.config({paths: {d3: \"https://cdnjs.cloudflare.com/ajax/libs/d3/3.5.5/d3.min\"}});\n",
              "   require([\"d3\"], function(d3){\n",
              "      window.d3 = d3;\n",
              "      LDAvis_load_lib(\"https://cdn.rawgit.com/bmabey/pyLDAvis/files/ldavis.v1.0.0.js\", function(){\n",
              "        new LDAvis(\"#\" + \"ldavis_el621401244311521367284931365\", ldavis_el621401244311521367284931365_data);\n",
              "      });\n",
              "    });\n",
              "}else{\n",
              "    // require.js not available: dynamically load d3 & LDAvis\n",
              "    LDAvis_load_lib(\"https://cdnjs.cloudflare.com/ajax/libs/d3/3.5.5/d3.min.js\", function(){\n",
              "         LDAvis_load_lib(\"https://cdn.rawgit.com/bmabey/pyLDAvis/files/ldavis.v1.0.0.js\", function(){\n",
              "                 new LDAvis(\"#\" + \"ldavis_el621401244311521367284931365\", ldavis_el621401244311521367284931365_data);\n",
              "            })\n",
              "         });\n",
              "}\n",
              "</script>"
            ],
            "text/plain": [
              "PreparedData(topic_coordinates=              x         y  topics  cluster       Freq\n",
              "topic                                                \n",
              "1     -0.071186  0.157171       1        1  28.731049\n",
              "3      0.202605 -0.000214       2        1  26.064376\n",
              "0     -0.071999 -0.151469       3        1  23.906616\n",
              "2     -0.059419 -0.005488       4        1  21.297960, topic_info=             Term        Freq        Total Category  logprob  loglift\n",
              "7    pennsylvania  724.000000   724.000000  Default  30.0000  30.0000\n",
              "2            help  580.000000   580.000000  Default  29.0000  29.0000\n",
              "1        election  746.000000   746.000000  Default  28.0000  28.0000\n",
              "11        speaker  655.000000   655.000000  Default  27.0000  27.0000\n",
              "9         results  513.000000   513.000000  Default  26.0000  26.0000\n",
              "..            ...         ...          ...      ...      ...      ...\n",
              "771          stan   75.313323   355.696681   Topic4  -5.7961  -0.0059\n",
              "150       economy  106.197793  1358.756330   Topic4  -5.4525  -1.0025\n",
              "582          make   64.979330   222.850495   Topic4  -5.9437   0.3141\n",
              "53       politics   85.544171   761.145357   Topic4  -5.6687  -0.6392\n",
              "106        people   79.290997   615.566087   Topic4  -5.7446  -0.5029\n",
              "\n",
              "[289 rows x 6 columns], token_table=      Topic      Freq        Term\n",
              "term                             \n",
              "772       3  0.993451     ableist\n",
              "772       4  0.005844     ableist\n",
              "384       1  0.973849     actions\n",
              "384       3  0.017869     actions\n",
              "766       1  0.031260  activities\n",
              "...     ...       ...         ...\n",
              "921       4  0.420886        year\n",
              "604       1  0.020999       youth\n",
              "604       2  0.062998       youth\n",
              "604       3  0.083998       youth\n",
              "604       4  0.839980       youth\n",
              "\n",
              "[616 rows x 3 columns], R=30, lambda_step=0.01, plot_opts={'xlab': 'PC1', 'ylab': 'PC2'}, topic_order=[2, 4, 1, 3])"
            ]
          },
          "metadata": {
            "tags": []
          },
          "execution_count": 129
        }
      ]
    },
    {
      "cell_type": "markdown",
      "metadata": {
        "id": "9qKbiVV_tOGc"
      },
      "source": [
        "## Testing model on unseen document"
      ]
    },
    {
      "cell_type": "code",
      "metadata": {
        "id": "t2AQVk80tOGc",
        "colab": {
          "base_uri": "https://localhost:8080/"
        },
        "outputId": "09d70a87-841d-4227-c891-b3ae85609bfb"
      },
      "source": [
        "unseen_document = 'Captain , Leader and future legend masonmount_10 great performance, onto the next round Ok handBlue heart CFC myteam '\n",
        "bow_vector = dictionary.doc2bow([clean_text(unseen_document)])\n",
        "\n",
        "for index, score in sorted(lda_model[bow_vector], key=lambda tup: -1*tup[1]):\n",
        "    print(\"Score: {}\\t Topic: {}\".format(score, lda_model.print_topic(index, 4)))"
      ],
      "execution_count": 131,
      "outputs": [
        {
          "output_type": "stream",
          "text": [
            "Score: 0.25\t Topic: 0.020*\"sport\" + 0.015*\"biden\" + 0.014*\"defense\" + 0.014*\"austin\"\n",
            "Score: 0.25\t Topic: 0.028*\"economy\" + 0.013*\"politics\" + 0.010*\"covid\" + 0.010*\"culture\"\n",
            "Score: 0.25\t Topic: 0.020*\"culture\" + 0.011*\"sport\" + 0.007*\"trump\" + 0.006*\"games\"\n",
            "Score: 0.25\t Topic: 0.034*\"trump\" + 0.022*\"election\" + 0.021*\"pennsylvania\" + 0.019*\"speaker\"\n"
          ],
          "name": "stdout"
        }
      ]
    },
    {
      "cell_type": "code",
      "metadata": {
        "id": "5XbjMkxehgqJ"
      },
      "source": [
        ""
      ],
      "execution_count": null,
      "outputs": []
    }
  ]
}